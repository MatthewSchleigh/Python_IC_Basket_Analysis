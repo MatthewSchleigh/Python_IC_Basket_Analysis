{
 "cells": [
  {
   "cell_type": "markdown",
   "id": "d73b451f",
   "metadata": {},
   "source": [
    "# TASK -- Part 1B"
   ]
  },
  {
   "cell_type": "markdown",
   "id": "e18ee26a",
   "metadata": {},
   "source": [
    "# ============================================="
   ]
  },
  {
   "cell_type": "markdown",
   "id": "6bf74659",
   "metadata": {},
   "source": [
    "# This script contains supplemental visualizations to help answer key questions from the Project Brief for the Instacart Final Report."
   ]
  },
  {
   "cell_type": "markdown",
   "id": "947ff5b8",
   "metadata": {},
   "source": [
    "# ============================================="
   ]
  },
  {
   "cell_type": "markdown",
   "id": "0926117b",
   "metadata": {},
   "source": [
    "# Importing libraries and data"
   ]
  },
  {
   "cell_type": "code",
   "execution_count": 1,
   "id": "a17feada",
   "metadata": {},
   "outputs": [],
   "source": [
    "# Import libraries\n",
    "\n",
    "import pandas as pd\n",
    "import numpy as np\n",
    "import os\n",
    "import matplotlib.pyplot as plt\n",
    "import seaborn as sns\n",
    "import scipy"
   ]
  },
  {
   "cell_type": "code",
   "execution_count": 2,
   "id": "c6e9a11f",
   "metadata": {},
   "outputs": [],
   "source": [
    "# define path\n",
    "\n",
    "path = r'/Users/matthewschleigh/Desktop/CareerFoundry/Achievement 4/Instacart Basket Analysis'"
   ]
  },
  {
   "cell_type": "code",
   "execution_count": 3,
   "id": "54a94f3d",
   "metadata": {},
   "outputs": [],
   "source": [
    "# Import data\n",
    "\n",
    "df = pd.read_pickle(os.path.join(path, '02 Data', 'Prepared data', 'instacart_dataframe.pkl'))"
   ]
  },
  {
   "cell_type": "code",
   "execution_count": 4,
   "id": "275410a0",
   "metadata": {},
   "outputs": [
    {
     "data": {
      "text/plain": [
       "(32404859, 37)"
      ]
     },
     "execution_count": 4,
     "metadata": {},
     "output_type": "execute_result"
    }
   ],
   "source": [
    "# Check output\n",
    "\n",
    "df.shape"
   ]
  },
  {
   "cell_type": "code",
   "execution_count": 5,
   "id": "ea4bfcfa",
   "metadata": {},
   "outputs": [
    {
     "data": {
      "text/html": [
       "<div>\n",
       "<style scoped>\n",
       "    .dataframe tbody tr th:only-of-type {\n",
       "        vertical-align: middle;\n",
       "    }\n",
       "\n",
       "    .dataframe tbody tr th {\n",
       "        vertical-align: top;\n",
       "    }\n",
       "\n",
       "    .dataframe thead th {\n",
       "        text-align: right;\n",
       "    }\n",
       "</style>\n",
       "<table border=\"1\" class=\"dataframe\">\n",
       "  <thead>\n",
       "    <tr style=\"text-align: right;\">\n",
       "      <th></th>\n",
       "      <th>order_id</th>\n",
       "      <th>user_id</th>\n",
       "      <th>order_number</th>\n",
       "      <th>order_day_of_week</th>\n",
       "      <th>order_hour_of_day</th>\n",
       "      <th>days_since_prior_order</th>\n",
       "      <th>product_id</th>\n",
       "      <th>add_to_cart_order</th>\n",
       "      <th>reordered</th>\n",
       "      <th>_merge</th>\n",
       "      <th>...</th>\n",
       "      <th>date_joined</th>\n",
       "      <th>#_of_dependents</th>\n",
       "      <th>marital_status</th>\n",
       "      <th>income</th>\n",
       "      <th>region</th>\n",
       "      <th>activity_flag</th>\n",
       "      <th>age_range</th>\n",
       "      <th>income_range</th>\n",
       "      <th>department_name</th>\n",
       "      <th>day_ordered</th>\n",
       "    </tr>\n",
       "  </thead>\n",
       "  <tbody>\n",
       "    <tr>\n",
       "      <th>0</th>\n",
       "      <td>2539329</td>\n",
       "      <td>1</td>\n",
       "      <td>1</td>\n",
       "      <td>2</td>\n",
       "      <td>8</td>\n",
       "      <td>0.0</td>\n",
       "      <td>196</td>\n",
       "      <td>1</td>\n",
       "      <td>0</td>\n",
       "      <td>both</td>\n",
       "      <td>...</td>\n",
       "      <td>2/17/2019</td>\n",
       "      <td>3</td>\n",
       "      <td>married</td>\n",
       "      <td>40423</td>\n",
       "      <td>South</td>\n",
       "      <td>Regular activity</td>\n",
       "      <td>25-34 year olds</td>\n",
       "      <td>0-49,999</td>\n",
       "      <td>Beverages</td>\n",
       "      <td>Monday</td>\n",
       "    </tr>\n",
       "    <tr>\n",
       "      <th>1</th>\n",
       "      <td>2398795</td>\n",
       "      <td>1</td>\n",
       "      <td>2</td>\n",
       "      <td>3</td>\n",
       "      <td>7</td>\n",
       "      <td>15.0</td>\n",
       "      <td>196</td>\n",
       "      <td>1</td>\n",
       "      <td>1</td>\n",
       "      <td>both</td>\n",
       "      <td>...</td>\n",
       "      <td>2/17/2019</td>\n",
       "      <td>3</td>\n",
       "      <td>married</td>\n",
       "      <td>40423</td>\n",
       "      <td>South</td>\n",
       "      <td>Regular activity</td>\n",
       "      <td>25-34 year olds</td>\n",
       "      <td>0-49,999</td>\n",
       "      <td>Beverages</td>\n",
       "      <td>Tuesday</td>\n",
       "    </tr>\n",
       "    <tr>\n",
       "      <th>2</th>\n",
       "      <td>473747</td>\n",
       "      <td>1</td>\n",
       "      <td>3</td>\n",
       "      <td>3</td>\n",
       "      <td>12</td>\n",
       "      <td>21.0</td>\n",
       "      <td>196</td>\n",
       "      <td>1</td>\n",
       "      <td>1</td>\n",
       "      <td>both</td>\n",
       "      <td>...</td>\n",
       "      <td>2/17/2019</td>\n",
       "      <td>3</td>\n",
       "      <td>married</td>\n",
       "      <td>40423</td>\n",
       "      <td>South</td>\n",
       "      <td>Regular activity</td>\n",
       "      <td>25-34 year olds</td>\n",
       "      <td>0-49,999</td>\n",
       "      <td>Beverages</td>\n",
       "      <td>Tuesday</td>\n",
       "    </tr>\n",
       "    <tr>\n",
       "      <th>3</th>\n",
       "      <td>2254736</td>\n",
       "      <td>1</td>\n",
       "      <td>4</td>\n",
       "      <td>4</td>\n",
       "      <td>7</td>\n",
       "      <td>29.0</td>\n",
       "      <td>196</td>\n",
       "      <td>1</td>\n",
       "      <td>1</td>\n",
       "      <td>both</td>\n",
       "      <td>...</td>\n",
       "      <td>2/17/2019</td>\n",
       "      <td>3</td>\n",
       "      <td>married</td>\n",
       "      <td>40423</td>\n",
       "      <td>South</td>\n",
       "      <td>Regular activity</td>\n",
       "      <td>25-34 year olds</td>\n",
       "      <td>0-49,999</td>\n",
       "      <td>Beverages</td>\n",
       "      <td>Wednesday</td>\n",
       "    </tr>\n",
       "    <tr>\n",
       "      <th>4</th>\n",
       "      <td>431534</td>\n",
       "      <td>1</td>\n",
       "      <td>5</td>\n",
       "      <td>4</td>\n",
       "      <td>15</td>\n",
       "      <td>28.0</td>\n",
       "      <td>196</td>\n",
       "      <td>1</td>\n",
       "      <td>1</td>\n",
       "      <td>both</td>\n",
       "      <td>...</td>\n",
       "      <td>2/17/2019</td>\n",
       "      <td>3</td>\n",
       "      <td>married</td>\n",
       "      <td>40423</td>\n",
       "      <td>South</td>\n",
       "      <td>Regular activity</td>\n",
       "      <td>25-34 year olds</td>\n",
       "      <td>0-49,999</td>\n",
       "      <td>Beverages</td>\n",
       "      <td>Wednesday</td>\n",
       "    </tr>\n",
       "  </tbody>\n",
       "</table>\n",
       "<p>5 rows × 37 columns</p>\n",
       "</div>"
      ],
      "text/plain": [
       "   order_id  user_id  order_number  order_day_of_week  order_hour_of_day  \\\n",
       "0   2539329        1             1                  2                  8   \n",
       "1   2398795        1             2                  3                  7   \n",
       "2    473747        1             3                  3                 12   \n",
       "3   2254736        1             4                  4                  7   \n",
       "4    431534        1             5                  4                 15   \n",
       "\n",
       "   days_since_prior_order  product_id  add_to_cart_order  reordered _merge  \\\n",
       "0                     0.0         196                  1          0   both   \n",
       "1                    15.0         196                  1          1   both   \n",
       "2                    21.0         196                  1          1   both   \n",
       "3                    29.0         196                  1          1   both   \n",
       "4                    28.0         196                  1          1   both   \n",
       "\n",
       "   ... date_joined  #_of_dependents  marital_status  income region  \\\n",
       "0  ...   2/17/2019                3         married   40423  South   \n",
       "1  ...   2/17/2019                3         married   40423  South   \n",
       "2  ...   2/17/2019                3         married   40423  South   \n",
       "3  ...   2/17/2019                3         married   40423  South   \n",
       "4  ...   2/17/2019                3         married   40423  South   \n",
       "\n",
       "      activity_flag        age_range income_range  department_name day_ordered  \n",
       "0  Regular activity  25-34 year olds     0-49,999        Beverages      Monday  \n",
       "1  Regular activity  25-34 year olds     0-49,999        Beverages     Tuesday  \n",
       "2  Regular activity  25-34 year olds     0-49,999        Beverages     Tuesday  \n",
       "3  Regular activity  25-34 year olds     0-49,999        Beverages   Wednesday  \n",
       "4  Regular activity  25-34 year olds     0-49,999        Beverages   Wednesday  \n",
       "\n",
       "[5 rows x 37 columns]"
      ]
     },
     "execution_count": 5,
     "metadata": {},
     "output_type": "execute_result"
    }
   ],
   "source": [
    "df.head()"
   ]
  },
  {
   "cell_type": "code",
   "execution_count": 6,
   "id": "6ab1ac46",
   "metadata": {},
   "outputs": [
    {
     "data": {
      "text/plain": [
       "order_id                     int64\n",
       "user_id                      int64\n",
       "order_number                 int64\n",
       "order_day_of_week            int64\n",
       "order_hour_of_day            int64\n",
       "days_since_prior_order     float64\n",
       "product_id                   int64\n",
       "add_to_cart_order            int64\n",
       "reordered                    int64\n",
       "_merge                    category\n",
       "product_name                object\n",
       "aisle_id                     int64\n",
       "department_id                int64\n",
       "prices                     float64\n",
       "price_range_loc             object\n",
       "busiest_day                 object\n",
       "busiest_days                object\n",
       "busiest_period_of_day       object\n",
       "max_order                    int64\n",
       "loyalty_flag                object\n",
       "mean_spending              float64\n",
       "Spender_type                object\n",
       "median_ord_freq            float64\n",
       "customer_frequency          object\n",
       "gender                      object\n",
       "state                       object\n",
       "age                          int64\n",
       "date_joined                 object\n",
       "#_of_dependents              int64\n",
       "marital_status              object\n",
       "income                       int64\n",
       "region                      object\n",
       "activity_flag               object\n",
       "age_range                   object\n",
       "income_range                object\n",
       "department_name             object\n",
       "day_ordered                 object\n",
       "dtype: object"
      ]
     },
     "execution_count": 6,
     "metadata": {},
     "output_type": "execute_result"
    }
   ],
   "source": [
    "# Check variable list\n",
    "\n",
    "df.dtypes"
   ]
  },
  {
   "cell_type": "markdown",
   "id": "2dbcc4d4",
   "metadata": {},
   "source": [
    "# Create additional visualizations"
   ]
  },
  {
   "cell_type": "markdown",
   "id": "13e0cfe4",
   "metadata": {},
   "source": [
    "# Instacart has a lot of products with different price tags. Marketing and sales want to use simpler price range groupings to help direct their efforts. "
   ]
  },
  {
   "cell_type": "code",
   "execution_count": 7,
   "id": "2946c066",
   "metadata": {},
   "outputs": [
    {
     "data": {
      "text/plain": [
       "Mid-range product     21860860\n",
       "Low-range product     10126321\n",
       "High-range product      417678\n",
       "Name: price_range_loc, dtype: int64"
      ]
     },
     "execution_count": 7,
     "metadata": {},
     "output_type": "execute_result"
    }
   ],
   "source": [
    "df['price_range_loc'].value_counts(dropna=False)"
   ]
  },
  {
   "cell_type": "code",
   "execution_count": 8,
   "id": "33a9db18",
   "metadata": {},
   "outputs": [
    {
     "data": {
      "image/png": "[encoded data removed]",
      "text/plain": [
       "<Figure size 432x288 with 1 Axes>"
      ]
     },
     "metadata": {
      "needs_background": "light"
     },
     "output_type": "display_data"
    }
   ],
   "source": [
    "# Create visual\n",
    "\n",
    "bar_price_range = df['price_range_loc'].value_counts().plot.bar(title='Product price range', ylabel='count (in tens of millions)')"
   ]
  },
  {
   "cell_type": "code",
   "execution_count": 9,
   "id": "fa7d0f5f",
   "metadata": {},
   "outputs": [],
   "source": [
    "# Export\n",
    "\n",
    "bar_price_range.figure.savefig(os.path.join(path, '04 Analysis', 'Visualizations', 'bar_price_range.png'))"
   ]
  },
  {
   "cell_type": "markdown",
   "id": "93c170ee",
   "metadata": {},
   "source": [
    "# Are there differences in ordering habits based on a customer’s loyalty status?"
   ]
  },
  {
   "cell_type": "code",
   "execution_count": 9,
   "id": "d4016eac",
   "metadata": {},
   "outputs": [
    {
     "data": {
      "text/plain": [
       "Regular customer    15876776\n",
       "Loyal customer      10284093\n",
       "New customer         6243990\n",
       "Name: loyalty_flag, dtype: int64"
      ]
     },
     "execution_count": 9,
     "metadata": {},
     "output_type": "execute_result"
    }
   ],
   "source": [
    "df['loyalty_flag'].value_counts(dropna=False)"
   ]
  },
  {
   "cell_type": "code",
   "execution_count": 10,
   "id": "7e45a684",
   "metadata": {},
   "outputs": [],
   "source": [
    "# Cross busiest_period_of_day with loyalty_flag\n",
    "\n",
    "cross_loyal_busy = pd.crosstab(df['loyalty_flag'], df['busiest_period_of_day'], dropna=False)"
   ]
  },
  {
   "cell_type": "code",
   "execution_count": 11,
   "id": "9cbf9140",
   "metadata": {},
   "outputs": [
    {
     "data": {
      "text/html": [
       "<div>\n",
       "<style scoped>\n",
       "    .dataframe tbody tr th:only-of-type {\n",
       "        vertical-align: middle;\n",
       "    }\n",
       "\n",
       "    .dataframe tbody tr th {\n",
       "        vertical-align: top;\n",
       "    }\n",
       "\n",
       "    .dataframe thead th {\n",
       "        text-align: right;\n",
       "    }\n",
       "</style>\n",
       "<table border=\"1\" class=\"dataframe\">\n",
       "  <thead>\n",
       "    <tr style=\"text-align: right;\">\n",
       "      <th>busiest_period_of_day</th>\n",
       "      <th>Average orders</th>\n",
       "      <th>Fewest orders</th>\n",
       "      <th>Most orders</th>\n",
       "    </tr>\n",
       "    <tr>\n",
       "      <th>loyalty_flag</th>\n",
       "      <th></th>\n",
       "      <th></th>\n",
       "      <th></th>\n",
       "    </tr>\n",
       "  </thead>\n",
       "  <tbody>\n",
       "    <tr>\n",
       "      <th>Loyal customer</th>\n",
       "      <td>5896423</td>\n",
       "      <td>107573</td>\n",
       "      <td>4280097</td>\n",
       "    </tr>\n",
       "    <tr>\n",
       "      <th>New customer</th>\n",
       "      <td>3540843</td>\n",
       "      <td>81612</td>\n",
       "      <td>2621535</td>\n",
       "    </tr>\n",
       "    <tr>\n",
       "      <th>Regular customer</th>\n",
       "      <td>9079900</td>\n",
       "      <td>188374</td>\n",
       "      <td>6608502</td>\n",
       "    </tr>\n",
       "  </tbody>\n",
       "</table>\n",
       "</div>"
      ],
      "text/plain": [
       "busiest_period_of_day  Average orders  Fewest orders  Most orders\n",
       "loyalty_flag                                                     \n",
       "Loyal customer                5896423         107573      4280097\n",
       "New customer                  3540843          81612      2621535\n",
       "Regular customer              9079900         188374      6608502"
      ]
     },
     "execution_count": 11,
     "metadata": {},
     "output_type": "execute_result"
    }
   ],
   "source": [
    "cross_loyal_busy"
   ]
  },
  {
   "cell_type": "code",
   "execution_count": 21,
   "id": "7714859f",
   "metadata": {},
   "outputs": [
    {
     "data": {
      "image/png": "[encoded data removed]",
      "text/plain": [
       "<Figure size 432x288 with 1 Axes>"
      ]
     },
     "metadata": {
      "needs_background": "light"
     },
     "output_type": "display_data"
    }
   ],
   "source": [
    "bar_loyal_busy = cross_loyal_busy.plot(kind='bar', stacked=True, title='Orders during busiest time of day by customer loyalty', ylabel='count (in tens of millions)')\n"
   ]
  },
  {
   "cell_type": "code",
   "execution_count": 14,
   "id": "0dddd70d",
   "metadata": {},
   "outputs": [],
   "source": [
    "bar_loyal_busy.figure.savefig(os.path.join(path, '04 Analysis', 'Visualizations', 'bar_loyal_busy.png'))"
   ]
  },
  {
   "cell_type": "markdown",
   "id": "2b89bec5",
   "metadata": {},
   "source": [
    "# Are there differences in ordering habits based on a customer’s region? "
   ]
  },
  {
   "cell_type": "code",
   "execution_count": 23,
   "id": "be437e20",
   "metadata": {},
   "outputs": [],
   "source": [
    "# Examine relationship between mean_spending and region\n",
    "\n",
    "cross_spend_region = pd.crosstab(df['region'], df['mean_spending'], dropna=False)"
   ]
  },
  {
   "cell_type": "code",
   "execution_count": 24,
   "id": "300f8ad1",
   "metadata": {},
   "outputs": [
    {
     "data": {
      "text/html": [
       "<div>\n",
       "<style scoped>\n",
       "    .dataframe tbody tr th:only-of-type {\n",
       "        vertical-align: middle;\n",
       "    }\n",
       "\n",
       "    .dataframe tbody tr th {\n",
       "        vertical-align: top;\n",
       "    }\n",
       "\n",
       "    .dataframe thead th {\n",
       "        text-align: right;\n",
       "    }\n",
       "</style>\n",
       "<table border=\"1\" class=\"dataframe\">\n",
       "  <thead>\n",
       "    <tr style=\"text-align: right;\">\n",
       "      <th>mean_spending</th>\n",
       "      <th>1.000000</th>\n",
       "      <th>1.100000</th>\n",
       "      <th>1.200000</th>\n",
       "      <th>1.262500</th>\n",
       "      <th>1.300000</th>\n",
       "      <th>1.308333</th>\n",
       "      <th>1.333333</th>\n",
       "      <th>1.350000</th>\n",
       "      <th>1.360000</th>\n",
       "      <th>1.400000</th>\n",
       "      <th>...</th>\n",
       "      <th>7700.025641</th>\n",
       "      <th>8703.400000</th>\n",
       "      <th>8794.882427</th>\n",
       "      <th>10209.987755</th>\n",
       "      <th>10721.342857</th>\n",
       "      <th>11772.100000</th>\n",
       "      <th>12506.925000</th>\n",
       "      <th>14042.512281</th>\n",
       "      <th>15006.940000</th>\n",
       "      <th>25005.425000</th>\n",
       "    </tr>\n",
       "    <tr>\n",
       "      <th>region</th>\n",
       "      <th></th>\n",
       "      <th></th>\n",
       "      <th></th>\n",
       "      <th></th>\n",
       "      <th></th>\n",
       "      <th></th>\n",
       "      <th></th>\n",
       "      <th></th>\n",
       "      <th></th>\n",
       "      <th></th>\n",
       "      <th></th>\n",
       "      <th></th>\n",
       "      <th></th>\n",
       "      <th></th>\n",
       "      <th></th>\n",
       "      <th></th>\n",
       "      <th></th>\n",
       "      <th></th>\n",
       "      <th></th>\n",
       "      <th></th>\n",
       "      <th></th>\n",
       "    </tr>\n",
       "  </thead>\n",
       "  <tbody>\n",
       "    <tr>\n",
       "      <th>Midwest</th>\n",
       "      <td>7</td>\n",
       "      <td>4</td>\n",
       "      <td>0</td>\n",
       "      <td>0</td>\n",
       "      <td>14</td>\n",
       "      <td>0</td>\n",
       "      <td>3</td>\n",
       "      <td>0</td>\n",
       "      <td>0</td>\n",
       "      <td>0</td>\n",
       "      <td>...</td>\n",
       "      <td>0</td>\n",
       "      <td>0</td>\n",
       "      <td>239</td>\n",
       "      <td>0</td>\n",
       "      <td>0</td>\n",
       "      <td>0</td>\n",
       "      <td>8</td>\n",
       "      <td>0</td>\n",
       "      <td>0</td>\n",
       "      <td>4</td>\n",
       "    </tr>\n",
       "    <tr>\n",
       "      <th>Northeast</th>\n",
       "      <td>0</td>\n",
       "      <td>17</td>\n",
       "      <td>8</td>\n",
       "      <td>0</td>\n",
       "      <td>3</td>\n",
       "      <td>0</td>\n",
       "      <td>0</td>\n",
       "      <td>0</td>\n",
       "      <td>0</td>\n",
       "      <td>0</td>\n",
       "      <td>...</td>\n",
       "      <td>0</td>\n",
       "      <td>0</td>\n",
       "      <td>0</td>\n",
       "      <td>0</td>\n",
       "      <td>0</td>\n",
       "      <td>0</td>\n",
       "      <td>0</td>\n",
       "      <td>0</td>\n",
       "      <td>0</td>\n",
       "      <td>0</td>\n",
       "    </tr>\n",
       "    <tr>\n",
       "      <th>South</th>\n",
       "      <td>3</td>\n",
       "      <td>6</td>\n",
       "      <td>0</td>\n",
       "      <td>8</td>\n",
       "      <td>3</td>\n",
       "      <td>12</td>\n",
       "      <td>0</td>\n",
       "      <td>0</td>\n",
       "      <td>5</td>\n",
       "      <td>3</td>\n",
       "      <td>...</td>\n",
       "      <td>0</td>\n",
       "      <td>0</td>\n",
       "      <td>0</td>\n",
       "      <td>0</td>\n",
       "      <td>28</td>\n",
       "      <td>17</td>\n",
       "      <td>0</td>\n",
       "      <td>57</td>\n",
       "      <td>40</td>\n",
       "      <td>0</td>\n",
       "    </tr>\n",
       "    <tr>\n",
       "      <th>West</th>\n",
       "      <td>8</td>\n",
       "      <td>0</td>\n",
       "      <td>0</td>\n",
       "      <td>0</td>\n",
       "      <td>10</td>\n",
       "      <td>0</td>\n",
       "      <td>0</td>\n",
       "      <td>4</td>\n",
       "      <td>0</td>\n",
       "      <td>0</td>\n",
       "      <td>...</td>\n",
       "      <td>39</td>\n",
       "      <td>23</td>\n",
       "      <td>0</td>\n",
       "      <td>49</td>\n",
       "      <td>0</td>\n",
       "      <td>0</td>\n",
       "      <td>0</td>\n",
       "      <td>0</td>\n",
       "      <td>0</td>\n",
       "      <td>0</td>\n",
       "    </tr>\n",
       "  </tbody>\n",
       "</table>\n",
       "<p>4 rows × 128637 columns</p>\n",
       "</div>"
      ],
      "text/plain": [
       "mean_spending  1.000000      1.100000      1.200000      1.262500      \\\n",
       "region                                                                  \n",
       "Midwest                   7             4             0             0   \n",
       "Northeast                 0            17             8             0   \n",
       "South                     3             6             0             8   \n",
       "West                      8             0             0             0   \n",
       "\n",
       "mean_spending  1.300000      1.308333      1.333333      1.350000      \\\n",
       "region                                                                  \n",
       "Midwest                  14             0             3             0   \n",
       "Northeast                 3             0             0             0   \n",
       "South                     3            12             0             0   \n",
       "West                     10             0             0             4   \n",
       "\n",
       "mean_spending  1.360000      1.400000      ...  7700.025641   8703.400000   \\\n",
       "region                                     ...                               \n",
       "Midwest                   0             0  ...             0             0   \n",
       "Northeast                 0             0  ...             0             0   \n",
       "South                     5             3  ...             0             0   \n",
       "West                      0             0  ...            39            23   \n",
       "\n",
       "mean_spending  8794.882427   10209.987755  10721.342857  11772.100000  \\\n",
       "region                                                                  \n",
       "Midwest                 239             0             0             0   \n",
       "Northeast                 0             0             0             0   \n",
       "South                     0             0            28            17   \n",
       "West                      0            49             0             0   \n",
       "\n",
       "mean_spending  12506.925000  14042.512281  15006.940000  25005.425000  \n",
       "region                                                                 \n",
       "Midwest                   8             0             0             4  \n",
       "Northeast                 0             0             0             0  \n",
       "South                     0            57            40             0  \n",
       "West                      0             0             0             0  \n",
       "\n",
       "[4 rows x 128637 columns]"
      ]
     },
     "execution_count": 24,
     "metadata": {},
     "output_type": "execute_result"
    }
   ],
   "source": [
    "cross_spend_region"
   ]
  },
  {
   "cell_type": "code",
   "execution_count": 25,
   "id": "b8a1c2a1",
   "metadata": {},
   "outputs": [],
   "source": [
    "cross_spendtype_region = pd.crosstab(df['region'], df['Spender_type'], dropna=False)"
   ]
  },
  {
   "cell_type": "code",
   "execution_count": 26,
   "id": "70620262",
   "metadata": {},
   "outputs": [
    {
     "data": {
      "text/html": [
       "<div>\n",
       "<style scoped>\n",
       "    .dataframe tbody tr th:only-of-type {\n",
       "        vertical-align: middle;\n",
       "    }\n",
       "\n",
       "    .dataframe tbody tr th {\n",
       "        vertical-align: top;\n",
       "    }\n",
       "\n",
       "    .dataframe thead th {\n",
       "        text-align: right;\n",
       "    }\n",
       "</style>\n",
       "<table border=\"1\" class=\"dataframe\">\n",
       "  <thead>\n",
       "    <tr style=\"text-align: right;\">\n",
       "      <th>Spender_type</th>\n",
       "      <th>High_spender</th>\n",
       "      <th>Low_spender</th>\n",
       "    </tr>\n",
       "    <tr>\n",
       "      <th>region</th>\n",
       "      <th></th>\n",
       "      <th></th>\n",
       "    </tr>\n",
       "  </thead>\n",
       "  <tbody>\n",
       "    <tr>\n",
       "      <th>Midwest</th>\n",
       "      <td>155975</td>\n",
       "      <td>7441350</td>\n",
       "    </tr>\n",
       "    <tr>\n",
       "      <th>Northeast</th>\n",
       "      <td>108225</td>\n",
       "      <td>5614511</td>\n",
       "    </tr>\n",
       "    <tr>\n",
       "      <th>South</th>\n",
       "      <td>209691</td>\n",
       "      <td>10582194</td>\n",
       "    </tr>\n",
       "    <tr>\n",
       "      <th>West</th>\n",
       "      <td>160354</td>\n",
       "      <td>8132559</td>\n",
       "    </tr>\n",
       "  </tbody>\n",
       "</table>\n",
       "</div>"
      ],
      "text/plain": [
       "Spender_type  High_spender  Low_spender\n",
       "region                                 \n",
       "Midwest             155975      7441350\n",
       "Northeast           108225      5614511\n",
       "South               209691     10582194\n",
       "West                160354      8132559"
      ]
     },
     "execution_count": 26,
     "metadata": {},
     "output_type": "execute_result"
    }
   ],
   "source": [
    "cross_spendtype_region"
   ]
  },
  {
   "cell_type": "code",
   "execution_count": 31,
   "id": "7b73d13b",
   "metadata": {},
   "outputs": [
    {
     "data": {
      "image/png": "[encoded data removed]",
      "text/plain": [
       "<Figure size 432x288 with 1 Axes>"
      ]
     },
     "metadata": {
      "needs_background": "light"
     },
     "output_type": "display_data"
    }
   ],
   "source": [
    "bar_spendtype_region = cross_spendtype_region.plot(kind='bar', ylabel='count (in tens of millions)', title='Spender type by region', stacked=True)"
   ]
  },
  {
   "cell_type": "code",
   "execution_count": 20,
   "id": "efb6f5de",
   "metadata": {},
   "outputs": [],
   "source": [
    "# Export\n",
    "\n",
    "bar_spendtype_region.figure.savefig(os.path.join(path, '04 Analysis', 'Visualizations', 'bar_spendtype_region.png'))"
   ]
  },
  {
   "cell_type": "markdown",
   "id": "af9d106c",
   "metadata": {},
   "source": [
    "# Is there a connection between age and family status in terms of ordering habits? "
   ]
  },
  {
   "cell_type": "code",
   "execution_count": 32,
   "id": "ffb4f9fb",
   "metadata": {},
   "outputs": [],
   "source": [
    "# Create crosstab between age_range and marital_status\n",
    "\n",
    "cross_age_status = pd.crosstab(df['marital_status'], df['age_range'], dropna=False)"
   ]
  },
  {
   "cell_type": "code",
   "execution_count": 33,
   "id": "0ae981db",
   "metadata": {},
   "outputs": [
    {
     "data": {
      "text/html": [
       "<div>\n",
       "<style scoped>\n",
       "    .dataframe tbody tr th:only-of-type {\n",
       "        vertical-align: middle;\n",
       "    }\n",
       "\n",
       "    .dataframe tbody tr th {\n",
       "        vertical-align: top;\n",
       "    }\n",
       "\n",
       "    .dataframe thead th {\n",
       "        text-align: right;\n",
       "    }\n",
       "</style>\n",
       "<table border=\"1\" class=\"dataframe\">\n",
       "  <thead>\n",
       "    <tr style=\"text-align: right;\">\n",
       "      <th>age_range</th>\n",
       "      <th>18-24 year olds</th>\n",
       "      <th>25-34 year olds</th>\n",
       "      <th>35-44 year olds</th>\n",
       "      <th>45-54 year olds</th>\n",
       "      <th>55-64 year olds</th>\n",
       "      <th>65 and over</th>\n",
       "    </tr>\n",
       "    <tr>\n",
       "      <th>marital_status</th>\n",
       "      <th></th>\n",
       "      <th></th>\n",
       "      <th></th>\n",
       "      <th></th>\n",
       "      <th></th>\n",
       "      <th></th>\n",
       "    </tr>\n",
       "  </thead>\n",
       "  <tbody>\n",
       "    <tr>\n",
       "      <th>divorced/widowed</th>\n",
       "      <td>0</td>\n",
       "      <td>0</td>\n",
       "      <td>0</td>\n",
       "      <td>0</td>\n",
       "      <td>511231</td>\n",
       "      <td>2260581</td>\n",
       "    </tr>\n",
       "    <tr>\n",
       "      <th>living with parents and siblings</th>\n",
       "      <td>1550603</td>\n",
       "      <td>0</td>\n",
       "      <td>0</td>\n",
       "      <td>0</td>\n",
       "      <td>0</td>\n",
       "      <td>0</td>\n",
       "    </tr>\n",
       "    <tr>\n",
       "      <th>married</th>\n",
       "      <td>767154</td>\n",
       "      <td>3383576</td>\n",
       "      <td>3414350</td>\n",
       "      <td>3459284</td>\n",
       "      <td>3332550</td>\n",
       "      <td>8399839</td>\n",
       "    </tr>\n",
       "    <tr>\n",
       "      <th>single</th>\n",
       "      <td>746182</td>\n",
       "      <td>1163735</td>\n",
       "      <td>1132281</td>\n",
       "      <td>1131640</td>\n",
       "      <td>656775</td>\n",
       "      <td>495078</td>\n",
       "    </tr>\n",
       "  </tbody>\n",
       "</table>\n",
       "</div>"
      ],
      "text/plain": [
       "age_range                         18-24 year olds  25-34 year olds  \\\n",
       "marital_status                                                       \n",
       "divorced/widowed                                0                0   \n",
       "living with parents and siblings          1550603                0   \n",
       "married                                    767154          3383576   \n",
       "single                                     746182          1163735   \n",
       "\n",
       "age_range                         35-44 year olds  45-54 year olds  \\\n",
       "marital_status                                                       \n",
       "divorced/widowed                                0                0   \n",
       "living with parents and siblings                0                0   \n",
       "married                                   3414350          3459284   \n",
       "single                                    1132281          1131640   \n",
       "\n",
       "age_range                         55-64 year olds  65 and over  \n",
       "marital_status                                                  \n",
       "divorced/widowed                           511231      2260581  \n",
       "living with parents and siblings                0            0  \n",
       "married                                   3332550      8399839  \n",
       "single                                     656775       495078  "
      ]
     },
     "execution_count": 33,
     "metadata": {},
     "output_type": "execute_result"
    }
   ],
   "source": [
    "cross_age_status"
   ]
  },
  {
   "cell_type": "code",
   "execution_count": 34,
   "id": "5f2c39be",
   "metadata": {},
   "outputs": [
    {
     "data": {
      "image/png": "[encoded data removed]",
      "text/plain": [
       "<Figure size 432x288 with 1 Axes>"
      ]
     },
     "metadata": {
      "needs_background": "light"
     },
     "output_type": "display_data"
    }
   ],
   "source": [
    "bar_age_status = cross_age_status.plot(kind='bar', stacked=True, ylabel='count (in tens of millions)', title='Marital status by age range')"
   ]
  },
  {
   "cell_type": "code",
   "execution_count": 24,
   "id": "16ba3a0a",
   "metadata": {},
   "outputs": [],
   "source": [
    "# Export\n",
    "\n",
    "bar_age_status.figure.savefig(os.path.join(path, '04 Analysis', 'Visualizations', 'bar_age_status.png'))"
   ]
  },
  {
   "cell_type": "markdown",
   "id": "794d61fe",
   "metadata": {},
   "source": [
    "# Check a few variables for their delineations"
   ]
  },
  {
   "cell_type": "code",
   "execution_count": 35,
   "id": "24bc2c7c",
   "metadata": {},
   "outputs": [
    {
     "data": {
      "text/plain": [
       "50,000-99,999       13996010\n",
       "100,000-149,999     10763185\n",
       "150,000-199,999      3793138\n",
       "0-49,999             3594083\n",
       "200,000 and over      258443\n",
       "Name: income_range, dtype: int64"
      ]
     },
     "execution_count": 35,
     "metadata": {},
     "output_type": "execute_result"
    }
   ],
   "source": [
    "# Check income_range\n",
    "\n",
    "df['income_range'].value_counts(dropna=False)"
   ]
  },
  {
   "cell_type": "code",
   "execution_count": 36,
   "id": "2bb90c48",
   "metadata": {},
   "outputs": [],
   "source": [
    "# Create new names for income levels\n",
    "\n",
    "result = []\n",
    "\n",
    "for value in df['income_range']:\n",
    "    if (value in ['0-49,999']):\n",
    "        result.append('Low income')\n",
    "    elif (value in ['50,000-99,999','100,000-149,999']):\n",
    "        result.append('Middle income')\n",
    "    else:\n",
    "        result.append('Upper income')"
   ]
  },
  {
   "cell_type": "code",
   "execution_count": 37,
   "id": "9b0f4ae3",
   "metadata": {},
   "outputs": [],
   "source": [
    "# Define new variable\n",
    "\n",
    "df['income_bracket'] = result"
   ]
  },
  {
   "cell_type": "code",
   "execution_count": 38,
   "id": "3456cbfe",
   "metadata": {},
   "outputs": [
    {
     "data": {
      "text/plain": [
       "Middle income    24759195\n",
       "Upper income      4051581\n",
       "Low income        3594083\n",
       "Name: income_bracket, dtype: int64"
      ]
     },
     "execution_count": 38,
     "metadata": {},
     "output_type": "execute_result"
    }
   ],
   "source": [
    "df['income_bracket'].value_counts(dropna=False)"
   ]
  },
  {
   "cell_type": "code",
   "execution_count": 39,
   "id": "5169c8dd",
   "metadata": {},
   "outputs": [
    {
     "data": {
      "text/plain": [
       "(32404859, 38)"
      ]
     },
     "execution_count": 39,
     "metadata": {},
     "output_type": "execute_result"
    }
   ],
   "source": [
    "# Check output\n",
    "\n",
    "df.shape"
   ]
  },
  {
   "cell_type": "code",
   "execution_count": 40,
   "id": "050936dc",
   "metadata": {},
   "outputs": [
    {
     "data": {
      "text/html": [
       "<div>\n",
       "<style scoped>\n",
       "    .dataframe tbody tr th:only-of-type {\n",
       "        vertical-align: middle;\n",
       "    }\n",
       "\n",
       "    .dataframe tbody tr th {\n",
       "        vertical-align: top;\n",
       "    }\n",
       "\n",
       "    .dataframe thead th {\n",
       "        text-align: right;\n",
       "    }\n",
       "</style>\n",
       "<table border=\"1\" class=\"dataframe\">\n",
       "  <thead>\n",
       "    <tr style=\"text-align: right;\">\n",
       "      <th></th>\n",
       "      <th>order_id</th>\n",
       "      <th>user_id</th>\n",
       "      <th>order_number</th>\n",
       "      <th>order_day_of_week</th>\n",
       "      <th>order_hour_of_day</th>\n",
       "      <th>days_since_prior_order</th>\n",
       "      <th>product_id</th>\n",
       "      <th>add_to_cart_order</th>\n",
       "      <th>reordered</th>\n",
       "      <th>_merge</th>\n",
       "      <th>...</th>\n",
       "      <th>#_of_dependents</th>\n",
       "      <th>marital_status</th>\n",
       "      <th>income</th>\n",
       "      <th>region</th>\n",
       "      <th>activity_flag</th>\n",
       "      <th>age_range</th>\n",
       "      <th>income_range</th>\n",
       "      <th>department_name</th>\n",
       "      <th>day_ordered</th>\n",
       "      <th>income_bracket</th>\n",
       "    </tr>\n",
       "  </thead>\n",
       "  <tbody>\n",
       "    <tr>\n",
       "      <th>0</th>\n",
       "      <td>2539329</td>\n",
       "      <td>1</td>\n",
       "      <td>1</td>\n",
       "      <td>2</td>\n",
       "      <td>8</td>\n",
       "      <td>0.0</td>\n",
       "      <td>196</td>\n",
       "      <td>1</td>\n",
       "      <td>0</td>\n",
       "      <td>both</td>\n",
       "      <td>...</td>\n",
       "      <td>3</td>\n",
       "      <td>married</td>\n",
       "      <td>40423</td>\n",
       "      <td>South</td>\n",
       "      <td>Regular activity</td>\n",
       "      <td>25-34 year olds</td>\n",
       "      <td>0-49,999</td>\n",
       "      <td>Beverages</td>\n",
       "      <td>Monday</td>\n",
       "      <td>Low income</td>\n",
       "    </tr>\n",
       "    <tr>\n",
       "      <th>1</th>\n",
       "      <td>2398795</td>\n",
       "      <td>1</td>\n",
       "      <td>2</td>\n",
       "      <td>3</td>\n",
       "      <td>7</td>\n",
       "      <td>15.0</td>\n",
       "      <td>196</td>\n",
       "      <td>1</td>\n",
       "      <td>1</td>\n",
       "      <td>both</td>\n",
       "      <td>...</td>\n",
       "      <td>3</td>\n",
       "      <td>married</td>\n",
       "      <td>40423</td>\n",
       "      <td>South</td>\n",
       "      <td>Regular activity</td>\n",
       "      <td>25-34 year olds</td>\n",
       "      <td>0-49,999</td>\n",
       "      <td>Beverages</td>\n",
       "      <td>Tuesday</td>\n",
       "      <td>Low income</td>\n",
       "    </tr>\n",
       "    <tr>\n",
       "      <th>2</th>\n",
       "      <td>473747</td>\n",
       "      <td>1</td>\n",
       "      <td>3</td>\n",
       "      <td>3</td>\n",
       "      <td>12</td>\n",
       "      <td>21.0</td>\n",
       "      <td>196</td>\n",
       "      <td>1</td>\n",
       "      <td>1</td>\n",
       "      <td>both</td>\n",
       "      <td>...</td>\n",
       "      <td>3</td>\n",
       "      <td>married</td>\n",
       "      <td>40423</td>\n",
       "      <td>South</td>\n",
       "      <td>Regular activity</td>\n",
       "      <td>25-34 year olds</td>\n",
       "      <td>0-49,999</td>\n",
       "      <td>Beverages</td>\n",
       "      <td>Tuesday</td>\n",
       "      <td>Low income</td>\n",
       "    </tr>\n",
       "    <tr>\n",
       "      <th>3</th>\n",
       "      <td>2254736</td>\n",
       "      <td>1</td>\n",
       "      <td>4</td>\n",
       "      <td>4</td>\n",
       "      <td>7</td>\n",
       "      <td>29.0</td>\n",
       "      <td>196</td>\n",
       "      <td>1</td>\n",
       "      <td>1</td>\n",
       "      <td>both</td>\n",
       "      <td>...</td>\n",
       "      <td>3</td>\n",
       "      <td>married</td>\n",
       "      <td>40423</td>\n",
       "      <td>South</td>\n",
       "      <td>Regular activity</td>\n",
       "      <td>25-34 year olds</td>\n",
       "      <td>0-49,999</td>\n",
       "      <td>Beverages</td>\n",
       "      <td>Wednesday</td>\n",
       "      <td>Low income</td>\n",
       "    </tr>\n",
       "    <tr>\n",
       "      <th>4</th>\n",
       "      <td>431534</td>\n",
       "      <td>1</td>\n",
       "      <td>5</td>\n",
       "      <td>4</td>\n",
       "      <td>15</td>\n",
       "      <td>28.0</td>\n",
       "      <td>196</td>\n",
       "      <td>1</td>\n",
       "      <td>1</td>\n",
       "      <td>both</td>\n",
       "      <td>...</td>\n",
       "      <td>3</td>\n",
       "      <td>married</td>\n",
       "      <td>40423</td>\n",
       "      <td>South</td>\n",
       "      <td>Regular activity</td>\n",
       "      <td>25-34 year olds</td>\n",
       "      <td>0-49,999</td>\n",
       "      <td>Beverages</td>\n",
       "      <td>Wednesday</td>\n",
       "      <td>Low income</td>\n",
       "    </tr>\n",
       "  </tbody>\n",
       "</table>\n",
       "<p>5 rows × 38 columns</p>\n",
       "</div>"
      ],
      "text/plain": [
       "   order_id  user_id  order_number  order_day_of_week  order_hour_of_day  \\\n",
       "0   2539329        1             1                  2                  8   \n",
       "1   2398795        1             2                  3                  7   \n",
       "2    473747        1             3                  3                 12   \n",
       "3   2254736        1             4                  4                  7   \n",
       "4    431534        1             5                  4                 15   \n",
       "\n",
       "   days_since_prior_order  product_id  add_to_cart_order  reordered _merge  \\\n",
       "0                     0.0         196                  1          0   both   \n",
       "1                    15.0         196                  1          1   both   \n",
       "2                    21.0         196                  1          1   both   \n",
       "3                    29.0         196                  1          1   both   \n",
       "4                    28.0         196                  1          1   both   \n",
       "\n",
       "   ... #_of_dependents  marital_status  income  region     activity_flag  \\\n",
       "0  ...               3         married   40423   South  Regular activity   \n",
       "1  ...               3         married   40423   South  Regular activity   \n",
       "2  ...               3         married   40423   South  Regular activity   \n",
       "3  ...               3         married   40423   South  Regular activity   \n",
       "4  ...               3         married   40423   South  Regular activity   \n",
       "\n",
       "         age_range income_range department_name  day_ordered income_bracket  \n",
       "0  25-34 year olds     0-49,999       Beverages       Monday     Low income  \n",
       "1  25-34 year olds     0-49,999       Beverages      Tuesday     Low income  \n",
       "2  25-34 year olds     0-49,999       Beverages      Tuesday     Low income  \n",
       "3  25-34 year olds     0-49,999       Beverages    Wednesday     Low income  \n",
       "4  25-34 year olds     0-49,999       Beverages    Wednesday     Low income  \n",
       "\n",
       "[5 rows x 38 columns]"
      ]
     },
     "execution_count": 40,
     "metadata": {},
     "output_type": "execute_result"
    }
   ],
   "source": [
    "df.head()"
   ]
  },
  {
   "cell_type": "code",
   "execution_count": 41,
   "id": "6f182be3",
   "metadata": {},
   "outputs": [
    {
     "data": {
      "text/plain": [
       "65 and over        11155498\n",
       "45-54 year olds     4590924\n",
       "25-34 year olds     4547311\n",
       "35-44 year olds     4546631\n",
       "55-64 year olds     4500556\n",
       "18-24 year olds     3063939\n",
       "Name: age_range, dtype: int64"
      ]
     },
     "execution_count": 41,
     "metadata": {},
     "output_type": "execute_result"
    }
   ],
   "source": [
    "# Check age_range for labels\n",
    "\n",
    "df['age_range'].value_counts(dropna=False)"
   ]
  },
  {
   "cell_type": "code",
   "execution_count": 42,
   "id": "31119aab",
   "metadata": {},
   "outputs": [],
   "source": [
    "# Create new names for age_range\n",
    "\n",
    "age_names = []\n",
    "\n",
    "for value in df['age_range']:\n",
    "    if (value in ['18-24 year olds']):\n",
    "        age_names.append('Young adult')\n",
    "    elif (value in ['25-34 year olds','35-44 year olds']):\n",
    "        age_names.append('Adult')\n",
    "    elif (value in ['45-54 year olds','55-64 year olds']):\n",
    "        age_names.append('Middle-age adult')\n",
    "    else:\n",
    "        age_names.append('Senior')\n",
    "    "
   ]
  },
  {
   "cell_type": "code",
   "execution_count": 43,
   "id": "c57eb76e",
   "metadata": {},
   "outputs": [],
   "source": [
    "# Define new variable\n",
    "\n",
    "df['age_bracket'] = age_names"
   ]
  },
  {
   "cell_type": "code",
   "execution_count": 44,
   "id": "dae95698",
   "metadata": {},
   "outputs": [
    {
     "data": {
      "text/plain": [
       "Senior              11155498\n",
       "Adult                9093942\n",
       "Middle-age adult     9091480\n",
       "Young adult          3063939\n",
       "Name: age_bracket, dtype: int64"
      ]
     },
     "execution_count": 44,
     "metadata": {},
     "output_type": "execute_result"
    }
   ],
   "source": [
    "df['age_bracket'].value_counts(dropna=False)"
   ]
  },
  {
   "cell_type": "code",
   "execution_count": 45,
   "id": "877568ae",
   "metadata": {},
   "outputs": [
    {
     "data": {
      "text/html": [
       "<div>\n",
       "<style scoped>\n",
       "    .dataframe tbody tr th:only-of-type {\n",
       "        vertical-align: middle;\n",
       "    }\n",
       "\n",
       "    .dataframe tbody tr th {\n",
       "        vertical-align: top;\n",
       "    }\n",
       "\n",
       "    .dataframe thead th {\n",
       "        text-align: right;\n",
       "    }\n",
       "</style>\n",
       "<table border=\"1\" class=\"dataframe\">\n",
       "  <thead>\n",
       "    <tr style=\"text-align: right;\">\n",
       "      <th></th>\n",
       "      <th>order_id</th>\n",
       "      <th>user_id</th>\n",
       "      <th>order_number</th>\n",
       "      <th>order_day_of_week</th>\n",
       "      <th>order_hour_of_day</th>\n",
       "      <th>days_since_prior_order</th>\n",
       "      <th>product_id</th>\n",
       "      <th>add_to_cart_order</th>\n",
       "      <th>reordered</th>\n",
       "      <th>_merge</th>\n",
       "      <th>...</th>\n",
       "      <th>marital_status</th>\n",
       "      <th>income</th>\n",
       "      <th>region</th>\n",
       "      <th>activity_flag</th>\n",
       "      <th>age_range</th>\n",
       "      <th>income_range</th>\n",
       "      <th>department_name</th>\n",
       "      <th>day_ordered</th>\n",
       "      <th>income_bracket</th>\n",
       "      <th>age_bracket</th>\n",
       "    </tr>\n",
       "  </thead>\n",
       "  <tbody>\n",
       "    <tr>\n",
       "      <th>0</th>\n",
       "      <td>2539329</td>\n",
       "      <td>1</td>\n",
       "      <td>1</td>\n",
       "      <td>2</td>\n",
       "      <td>8</td>\n",
       "      <td>0.0</td>\n",
       "      <td>196</td>\n",
       "      <td>1</td>\n",
       "      <td>0</td>\n",
       "      <td>both</td>\n",
       "      <td>...</td>\n",
       "      <td>married</td>\n",
       "      <td>40423</td>\n",
       "      <td>South</td>\n",
       "      <td>Regular activity</td>\n",
       "      <td>25-34 year olds</td>\n",
       "      <td>0-49,999</td>\n",
       "      <td>Beverages</td>\n",
       "      <td>Monday</td>\n",
       "      <td>Low income</td>\n",
       "      <td>Adult</td>\n",
       "    </tr>\n",
       "    <tr>\n",
       "      <th>1</th>\n",
       "      <td>2398795</td>\n",
       "      <td>1</td>\n",
       "      <td>2</td>\n",
       "      <td>3</td>\n",
       "      <td>7</td>\n",
       "      <td>15.0</td>\n",
       "      <td>196</td>\n",
       "      <td>1</td>\n",
       "      <td>1</td>\n",
       "      <td>both</td>\n",
       "      <td>...</td>\n",
       "      <td>married</td>\n",
       "      <td>40423</td>\n",
       "      <td>South</td>\n",
       "      <td>Regular activity</td>\n",
       "      <td>25-34 year olds</td>\n",
       "      <td>0-49,999</td>\n",
       "      <td>Beverages</td>\n",
       "      <td>Tuesday</td>\n",
       "      <td>Low income</td>\n",
       "      <td>Adult</td>\n",
       "    </tr>\n",
       "    <tr>\n",
       "      <th>2</th>\n",
       "      <td>473747</td>\n",
       "      <td>1</td>\n",
       "      <td>3</td>\n",
       "      <td>3</td>\n",
       "      <td>12</td>\n",
       "      <td>21.0</td>\n",
       "      <td>196</td>\n",
       "      <td>1</td>\n",
       "      <td>1</td>\n",
       "      <td>both</td>\n",
       "      <td>...</td>\n",
       "      <td>married</td>\n",
       "      <td>40423</td>\n",
       "      <td>South</td>\n",
       "      <td>Regular activity</td>\n",
       "      <td>25-34 year olds</td>\n",
       "      <td>0-49,999</td>\n",
       "      <td>Beverages</td>\n",
       "      <td>Tuesday</td>\n",
       "      <td>Low income</td>\n",
       "      <td>Adult</td>\n",
       "    </tr>\n",
       "    <tr>\n",
       "      <th>3</th>\n",
       "      <td>2254736</td>\n",
       "      <td>1</td>\n",
       "      <td>4</td>\n",
       "      <td>4</td>\n",
       "      <td>7</td>\n",
       "      <td>29.0</td>\n",
       "      <td>196</td>\n",
       "      <td>1</td>\n",
       "      <td>1</td>\n",
       "      <td>both</td>\n",
       "      <td>...</td>\n",
       "      <td>married</td>\n",
       "      <td>40423</td>\n",
       "      <td>South</td>\n",
       "      <td>Regular activity</td>\n",
       "      <td>25-34 year olds</td>\n",
       "      <td>0-49,999</td>\n",
       "      <td>Beverages</td>\n",
       "      <td>Wednesday</td>\n",
       "      <td>Low income</td>\n",
       "      <td>Adult</td>\n",
       "    </tr>\n",
       "    <tr>\n",
       "      <th>4</th>\n",
       "      <td>431534</td>\n",
       "      <td>1</td>\n",
       "      <td>5</td>\n",
       "      <td>4</td>\n",
       "      <td>15</td>\n",
       "      <td>28.0</td>\n",
       "      <td>196</td>\n",
       "      <td>1</td>\n",
       "      <td>1</td>\n",
       "      <td>both</td>\n",
       "      <td>...</td>\n",
       "      <td>married</td>\n",
       "      <td>40423</td>\n",
       "      <td>South</td>\n",
       "      <td>Regular activity</td>\n",
       "      <td>25-34 year olds</td>\n",
       "      <td>0-49,999</td>\n",
       "      <td>Beverages</td>\n",
       "      <td>Wednesday</td>\n",
       "      <td>Low income</td>\n",
       "      <td>Adult</td>\n",
       "    </tr>\n",
       "  </tbody>\n",
       "</table>\n",
       "<p>5 rows × 39 columns</p>\n",
       "</div>"
      ],
      "text/plain": [
       "   order_id  user_id  order_number  order_day_of_week  order_hour_of_day  \\\n",
       "0   2539329        1             1                  2                  8   \n",
       "1   2398795        1             2                  3                  7   \n",
       "2    473747        1             3                  3                 12   \n",
       "3   2254736        1             4                  4                  7   \n",
       "4    431534        1             5                  4                 15   \n",
       "\n",
       "   days_since_prior_order  product_id  add_to_cart_order  reordered _merge  \\\n",
       "0                     0.0         196                  1          0   both   \n",
       "1                    15.0         196                  1          1   both   \n",
       "2                    21.0         196                  1          1   both   \n",
       "3                    29.0         196                  1          1   both   \n",
       "4                    28.0         196                  1          1   both   \n",
       "\n",
       "   ... marital_status  income  region     activity_flag        age_range  \\\n",
       "0  ...        married   40423   South  Regular activity  25-34 year olds   \n",
       "1  ...        married   40423   South  Regular activity  25-34 year olds   \n",
       "2  ...        married   40423   South  Regular activity  25-34 year olds   \n",
       "3  ...        married   40423   South  Regular activity  25-34 year olds   \n",
       "4  ...        married   40423   South  Regular activity  25-34 year olds   \n",
       "\n",
       "  income_range department_name day_ordered  income_bracket age_bracket  \n",
       "0     0-49,999       Beverages      Monday      Low income       Adult  \n",
       "1     0-49,999       Beverages     Tuesday      Low income       Adult  \n",
       "2     0-49,999       Beverages     Tuesday      Low income       Adult  \n",
       "3     0-49,999       Beverages   Wednesday      Low income       Adult  \n",
       "4     0-49,999       Beverages   Wednesday      Low income       Adult  \n",
       "\n",
       "[5 rows x 39 columns]"
      ]
     },
     "execution_count": 45,
     "metadata": {},
     "output_type": "execute_result"
    }
   ],
   "source": [
    "df.head()"
   ]
  },
  {
   "cell_type": "code",
   "execution_count": 46,
   "id": "4b72370a",
   "metadata": {},
   "outputs": [],
   "source": [
    "# Create new children bracket\n",
    "\n",
    "df.loc[df['#_of_dependents'] == 0, 'children'] = 'No children'"
   ]
  },
  {
   "cell_type": "code",
   "execution_count": 47,
   "id": "2c988c29",
   "metadata": {},
   "outputs": [],
   "source": [
    "df.loc[df['#_of_dependents'] >= 1, 'children'] = 'Children'"
   ]
  },
  {
   "cell_type": "code",
   "execution_count": 48,
   "id": "60e8177b",
   "metadata": {},
   "outputs": [
    {
     "data": {
      "text/plain": [
       "Children       24307356\n",
       "No children     8097503\n",
       "Name: children, dtype: int64"
      ]
     },
     "execution_count": 48,
     "metadata": {},
     "output_type": "execute_result"
    }
   ],
   "source": [
    "# Check code\n",
    "\n",
    "df['children'].value_counts(dropna=False)"
   ]
  },
  {
   "cell_type": "code",
   "execution_count": 47,
   "id": "01e46168",
   "metadata": {},
   "outputs": [],
   "source": [
    "# Export df as csv for safety\n",
    "\n",
    "df.to_csv(os.path.join(path, '02 Data', 'Prepared data', 'instacart_dataframe_v2.csv'))"
   ]
  },
  {
   "cell_type": "markdown",
   "id": "cde40859",
   "metadata": {},
   "source": [
    "# What differences can you find in ordering habits of different customer profiles? Consider the price of orders, the frequency of orders, the products customers are ordering, and anything else you can think of. "
   ]
  },
  {
   "cell_type": "markdown",
   "id": "1d85bcda",
   "metadata": {},
   "source": [
    "# Examine the profile \"Young parent\"\n",
    "# Variables: \"Young adult\", \"children\""
   ]
  },
  {
   "cell_type": "code",
   "execution_count": 49,
   "id": "64c8de71",
   "metadata": {},
   "outputs": [],
   "source": [
    "# Crosstab for age bracket and children\n",
    "\n",
    "cross_age_nokids = pd.crosstab(df['age_bracket'], df['children'], dropna=False)"
   ]
  },
  {
   "cell_type": "code",
   "execution_count": 50,
   "id": "728fc0d8",
   "metadata": {},
   "outputs": [
    {
     "data": {
      "text/html": [
       "<div>\n",
       "<style scoped>\n",
       "    .dataframe tbody tr th:only-of-type {\n",
       "        vertical-align: middle;\n",
       "    }\n",
       "\n",
       "    .dataframe tbody tr th {\n",
       "        vertical-align: top;\n",
       "    }\n",
       "\n",
       "    .dataframe thead th {\n",
       "        text-align: right;\n",
       "    }\n",
       "</style>\n",
       "<table border=\"1\" class=\"dataframe\">\n",
       "  <thead>\n",
       "    <tr style=\"text-align: right;\">\n",
       "      <th>children</th>\n",
       "      <th>Children</th>\n",
       "      <th>No children</th>\n",
       "    </tr>\n",
       "    <tr>\n",
       "      <th>age_bracket</th>\n",
       "      <th></th>\n",
       "      <th></th>\n",
       "    </tr>\n",
       "  </thead>\n",
       "  <tbody>\n",
       "    <tr>\n",
       "      <th>Adult</th>\n",
       "      <td>6797926</td>\n",
       "      <td>2296016</td>\n",
       "    </tr>\n",
       "    <tr>\n",
       "      <th>Middle-age adult</th>\n",
       "      <td>6791834</td>\n",
       "      <td>2299646</td>\n",
       "    </tr>\n",
       "    <tr>\n",
       "      <th>Senior</th>\n",
       "      <td>8399839</td>\n",
       "      <td>2755659</td>\n",
       "    </tr>\n",
       "    <tr>\n",
       "      <th>Young adult</th>\n",
       "      <td>2317757</td>\n",
       "      <td>746182</td>\n",
       "    </tr>\n",
       "  </tbody>\n",
       "</table>\n",
       "</div>"
      ],
      "text/plain": [
       "children          Children  No children\n",
       "age_bracket                            \n",
       "Adult              6797926      2296016\n",
       "Middle-age adult   6791834      2299646\n",
       "Senior             8399839      2755659\n",
       "Young adult        2317757       746182"
      ]
     },
     "execution_count": 50,
     "metadata": {},
     "output_type": "execute_result"
    }
   ],
   "source": [
    "cross_age_nokids"
   ]
  },
  {
   "cell_type": "code",
   "execution_count": 51,
   "id": "98403c9a",
   "metadata": {},
   "outputs": [],
   "source": [
    "# Create vars_list to filter needed columns\n",
    "\n",
    "vars_list = ['order_id','user_id', 'age_bracket', 'marital_status', 'children', 'income_bracket','department_name', 'region']"
   ]
  },
  {
   "cell_type": "code",
   "execution_count": 52,
   "id": "be05f6fd",
   "metadata": {},
   "outputs": [],
   "source": [
    "# Import data to focus on young parents\n",
    "\n",
    "parents = pd.read_csv(os.path.join(path, '02 Data', 'Prepared data', 'instacart_dataframe_v2.csv'), usecols=vars_list)"
   ]
  },
  {
   "cell_type": "code",
   "execution_count": 53,
   "id": "6ec25351",
   "metadata": {},
   "outputs": [
    {
     "data": {
      "text/plain": [
       "(32404859, 8)"
      ]
     },
     "execution_count": 53,
     "metadata": {},
     "output_type": "execute_result"
    }
   ],
   "source": [
    "# Check output\n",
    "\n",
    "parents.shape"
   ]
  },
  {
   "cell_type": "code",
   "execution_count": 54,
   "id": "9d461235",
   "metadata": {},
   "outputs": [
    {
     "data": {
      "text/html": [
       "<div>\n",
       "<style scoped>\n",
       "    .dataframe tbody tr th:only-of-type {\n",
       "        vertical-align: middle;\n",
       "    }\n",
       "\n",
       "    .dataframe tbody tr th {\n",
       "        vertical-align: top;\n",
       "    }\n",
       "\n",
       "    .dataframe thead th {\n",
       "        text-align: right;\n",
       "    }\n",
       "</style>\n",
       "<table border=\"1\" class=\"dataframe\">\n",
       "  <thead>\n",
       "    <tr style=\"text-align: right;\">\n",
       "      <th></th>\n",
       "      <th>order_id</th>\n",
       "      <th>user_id</th>\n",
       "      <th>marital_status</th>\n",
       "      <th>region</th>\n",
       "      <th>department_name</th>\n",
       "      <th>income_bracket</th>\n",
       "      <th>age_bracket</th>\n",
       "      <th>children</th>\n",
       "    </tr>\n",
       "  </thead>\n",
       "  <tbody>\n",
       "    <tr>\n",
       "      <th>0</th>\n",
       "      <td>2539329</td>\n",
       "      <td>1</td>\n",
       "      <td>married</td>\n",
       "      <td>South</td>\n",
       "      <td>Beverages</td>\n",
       "      <td>Low income</td>\n",
       "      <td>Adult</td>\n",
       "      <td>Children</td>\n",
       "    </tr>\n",
       "    <tr>\n",
       "      <th>1</th>\n",
       "      <td>2398795</td>\n",
       "      <td>1</td>\n",
       "      <td>married</td>\n",
       "      <td>South</td>\n",
       "      <td>Beverages</td>\n",
       "      <td>Low income</td>\n",
       "      <td>Adult</td>\n",
       "      <td>Children</td>\n",
       "    </tr>\n",
       "    <tr>\n",
       "      <th>2</th>\n",
       "      <td>473747</td>\n",
       "      <td>1</td>\n",
       "      <td>married</td>\n",
       "      <td>South</td>\n",
       "      <td>Beverages</td>\n",
       "      <td>Low income</td>\n",
       "      <td>Adult</td>\n",
       "      <td>Children</td>\n",
       "    </tr>\n",
       "    <tr>\n",
       "      <th>3</th>\n",
       "      <td>2254736</td>\n",
       "      <td>1</td>\n",
       "      <td>married</td>\n",
       "      <td>South</td>\n",
       "      <td>Beverages</td>\n",
       "      <td>Low income</td>\n",
       "      <td>Adult</td>\n",
       "      <td>Children</td>\n",
       "    </tr>\n",
       "    <tr>\n",
       "      <th>4</th>\n",
       "      <td>431534</td>\n",
       "      <td>1</td>\n",
       "      <td>married</td>\n",
       "      <td>South</td>\n",
       "      <td>Beverages</td>\n",
       "      <td>Low income</td>\n",
       "      <td>Adult</td>\n",
       "      <td>Children</td>\n",
       "    </tr>\n",
       "  </tbody>\n",
       "</table>\n",
       "</div>"
      ],
      "text/plain": [
       "   order_id  user_id marital_status region department_name income_bracket  \\\n",
       "0   2539329        1        married  South       Beverages     Low income   \n",
       "1   2398795        1        married  South       Beverages     Low income   \n",
       "2    473747        1        married  South       Beverages     Low income   \n",
       "3   2254736        1        married  South       Beverages     Low income   \n",
       "4    431534        1        married  South       Beverages     Low income   \n",
       "\n",
       "  age_bracket  children  \n",
       "0       Adult  Children  \n",
       "1       Adult  Children  \n",
       "2       Adult  Children  \n",
       "3       Adult  Children  \n",
       "4       Adult  Children  "
      ]
     },
     "execution_count": 54,
     "metadata": {},
     "output_type": "execute_result"
    }
   ],
   "source": [
    "parents.head()"
   ]
  },
  {
   "cell_type": "code",
   "execution_count": 55,
   "id": "22b7a45a",
   "metadata": {},
   "outputs": [],
   "source": [
    "# Create subset filtering for children and young adult age bracket\n",
    "\n",
    "parent_young = parents[(parents['children']=='Children') & (parents['age_bracket']=='Young adult')]"
   ]
  },
  {
   "cell_type": "code",
   "execution_count": 56,
   "id": "6f338b5b",
   "metadata": {},
   "outputs": [
    {
     "data": {
      "text/html": [
       "<div>\n",
       "<style scoped>\n",
       "    .dataframe tbody tr th:only-of-type {\n",
       "        vertical-align: middle;\n",
       "    }\n",
       "\n",
       "    .dataframe tbody tr th {\n",
       "        vertical-align: top;\n",
       "    }\n",
       "\n",
       "    .dataframe thead th {\n",
       "        text-align: right;\n",
       "    }\n",
       "</style>\n",
       "<table border=\"1\" class=\"dataframe\">\n",
       "  <thead>\n",
       "    <tr style=\"text-align: right;\">\n",
       "      <th></th>\n",
       "      <th>order_id</th>\n",
       "      <th>user_id</th>\n",
       "      <th>marital_status</th>\n",
       "      <th>region</th>\n",
       "      <th>department_name</th>\n",
       "      <th>income_bracket</th>\n",
       "      <th>age_bracket</th>\n",
       "      <th>children</th>\n",
       "    </tr>\n",
       "  </thead>\n",
       "  <tbody>\n",
       "    <tr>\n",
       "      <th>6293</th>\n",
       "      <td>1442654</td>\n",
       "      <td>1137</td>\n",
       "      <td>living with parents and siblings</td>\n",
       "      <td>Midwest</td>\n",
       "      <td>Beverages</td>\n",
       "      <td>Middle income</td>\n",
       "      <td>Young adult</td>\n",
       "      <td>Children</td>\n",
       "    </tr>\n",
       "    <tr>\n",
       "      <th>6294</th>\n",
       "      <td>289494</td>\n",
       "      <td>1137</td>\n",
       "      <td>living with parents and siblings</td>\n",
       "      <td>Midwest</td>\n",
       "      <td>Beverages</td>\n",
       "      <td>Middle income</td>\n",
       "      <td>Young adult</td>\n",
       "      <td>Children</td>\n",
       "    </tr>\n",
       "    <tr>\n",
       "      <th>6295</th>\n",
       "      <td>147278</td>\n",
       "      <td>1137</td>\n",
       "      <td>living with parents and siblings</td>\n",
       "      <td>Midwest</td>\n",
       "      <td>Beverages</td>\n",
       "      <td>Middle income</td>\n",
       "      <td>Young adult</td>\n",
       "      <td>Children</td>\n",
       "    </tr>\n",
       "    <tr>\n",
       "      <th>6296</th>\n",
       "      <td>2546034</td>\n",
       "      <td>1137</td>\n",
       "      <td>living with parents and siblings</td>\n",
       "      <td>Midwest</td>\n",
       "      <td>Beverages</td>\n",
       "      <td>Middle income</td>\n",
       "      <td>Young adult</td>\n",
       "      <td>Children</td>\n",
       "    </tr>\n",
       "    <tr>\n",
       "      <th>6297</th>\n",
       "      <td>1682164</td>\n",
       "      <td>1137</td>\n",
       "      <td>living with parents and siblings</td>\n",
       "      <td>Midwest</td>\n",
       "      <td>Produce</td>\n",
       "      <td>Middle income</td>\n",
       "      <td>Young adult</td>\n",
       "      <td>Children</td>\n",
       "    </tr>\n",
       "  </tbody>\n",
       "</table>\n",
       "</div>"
      ],
      "text/plain": [
       "      order_id  user_id                    marital_status   region  \\\n",
       "6293   1442654     1137  living with parents and siblings  Midwest   \n",
       "6294    289494     1137  living with parents and siblings  Midwest   \n",
       "6295    147278     1137  living with parents and siblings  Midwest   \n",
       "6296   2546034     1137  living with parents and siblings  Midwest   \n",
       "6297   1682164     1137  living with parents and siblings  Midwest   \n",
       "\n",
       "     department_name income_bracket  age_bracket  children  \n",
       "6293       Beverages  Middle income  Young adult  Children  \n",
       "6294       Beverages  Middle income  Young adult  Children  \n",
       "6295       Beverages  Middle income  Young adult  Children  \n",
       "6296       Beverages  Middle income  Young adult  Children  \n",
       "6297         Produce  Middle income  Young adult  Children  "
      ]
     },
     "execution_count": 56,
     "metadata": {},
     "output_type": "execute_result"
    }
   ],
   "source": [
    "# Check output\n",
    "\n",
    "parent_young.head()"
   ]
  },
  {
   "cell_type": "code",
   "execution_count": 57,
   "id": "fd3607c0",
   "metadata": {},
   "outputs": [
    {
     "data": {
      "text/plain": [
       "Children    2317757\n",
       "Name: children, dtype: int64"
      ]
     },
     "execution_count": 57,
     "metadata": {},
     "output_type": "execute_result"
    }
   ],
   "source": [
    "parent_young['children'].value_counts(dropna=False)"
   ]
  },
  {
   "cell_type": "code",
   "execution_count": 58,
   "id": "cab991e2",
   "metadata": {},
   "outputs": [
    {
     "data": {
      "text/plain": [
       "Young adult    2317757\n",
       "Name: age_bracket, dtype: int64"
      ]
     },
     "execution_count": 58,
     "metadata": {},
     "output_type": "execute_result"
    }
   ],
   "source": [
    "parent_young['age_bracket'].value_counts(dropna=False)"
   ]
  },
  {
   "cell_type": "code",
   "execution_count": 59,
   "id": "86b4d65e",
   "metadata": {},
   "outputs": [],
   "source": [
    "# Examine region and department for young adult with children\n",
    "\n",
    "cross_dept = pd.crosstab(parent_young['region'], parent_young['department_name'], dropna=False)"
   ]
  },
  {
   "cell_type": "code",
   "execution_count": 60,
   "id": "8a144eb5",
   "metadata": {},
   "outputs": [
    {
     "data": {
      "text/html": [
       "<div>\n",
       "<style scoped>\n",
       "    .dataframe tbody tr th:only-of-type {\n",
       "        vertical-align: middle;\n",
       "    }\n",
       "\n",
       "    .dataframe tbody tr th {\n",
       "        vertical-align: top;\n",
       "    }\n",
       "\n",
       "    .dataframe thead th {\n",
       "        text-align: right;\n",
       "    }\n",
       "</style>\n",
       "<table border=\"1\" class=\"dataframe\">\n",
       "  <thead>\n",
       "    <tr style=\"text-align: right;\">\n",
       "      <th>department_name</th>\n",
       "      <th>Alcohol</th>\n",
       "      <th>Babies</th>\n",
       "      <th>Bakery</th>\n",
       "      <th>Beverages</th>\n",
       "      <th>Breakfast</th>\n",
       "      <th>Bulk</th>\n",
       "      <th>Canned goods</th>\n",
       "      <th>Dairy eggs</th>\n",
       "      <th>Deli</th>\n",
       "      <th>Dry goods pasta</th>\n",
       "      <th>...</th>\n",
       "      <th>Household</th>\n",
       "      <th>International</th>\n",
       "      <th>Meat Seafood</th>\n",
       "      <th>Missing</th>\n",
       "      <th>Other</th>\n",
       "      <th>Pantry</th>\n",
       "      <th>Personal Care</th>\n",
       "      <th>Pets</th>\n",
       "      <th>Produce</th>\n",
       "      <th>Snacks</th>\n",
       "    </tr>\n",
       "    <tr>\n",
       "      <th>region</th>\n",
       "      <th></th>\n",
       "      <th></th>\n",
       "      <th></th>\n",
       "      <th></th>\n",
       "      <th></th>\n",
       "      <th></th>\n",
       "      <th></th>\n",
       "      <th></th>\n",
       "      <th></th>\n",
       "      <th></th>\n",
       "      <th></th>\n",
       "      <th></th>\n",
       "      <th></th>\n",
       "      <th></th>\n",
       "      <th></th>\n",
       "      <th></th>\n",
       "      <th></th>\n",
       "      <th></th>\n",
       "      <th></th>\n",
       "      <th></th>\n",
       "      <th></th>\n",
       "    </tr>\n",
       "  </thead>\n",
       "  <tbody>\n",
       "    <tr>\n",
       "      <th>Midwest</th>\n",
       "      <td>3519</td>\n",
       "      <td>7333</td>\n",
       "      <td>19677</td>\n",
       "      <td>44464</td>\n",
       "      <td>11447</td>\n",
       "      <td>557</td>\n",
       "      <td>18883</td>\n",
       "      <td>90828</td>\n",
       "      <td>18012</td>\n",
       "      <td>15077</td>\n",
       "      <td>...</td>\n",
       "      <td>13392</td>\n",
       "      <td>4722</td>\n",
       "      <td>12450</td>\n",
       "      <td>1301</td>\n",
       "      <td>639</td>\n",
       "      <td>32923</td>\n",
       "      <td>7483</td>\n",
       "      <td>2195</td>\n",
       "      <td>157703</td>\n",
       "      <td>46204</td>\n",
       "    </tr>\n",
       "    <tr>\n",
       "      <th>Northeast</th>\n",
       "      <td>1748</td>\n",
       "      <td>5572</td>\n",
       "      <td>14464</td>\n",
       "      <td>34668</td>\n",
       "      <td>9734</td>\n",
       "      <td>463</td>\n",
       "      <td>13084</td>\n",
       "      <td>68992</td>\n",
       "      <td>13639</td>\n",
       "      <td>11069</td>\n",
       "      <td>...</td>\n",
       "      <td>9157</td>\n",
       "      <td>3436</td>\n",
       "      <td>8454</td>\n",
       "      <td>864</td>\n",
       "      <td>496</td>\n",
       "      <td>23351</td>\n",
       "      <td>5318</td>\n",
       "      <td>1064</td>\n",
       "      <td>118592</td>\n",
       "      <td>37891</td>\n",
       "    </tr>\n",
       "    <tr>\n",
       "      <th>South</th>\n",
       "      <td>4781</td>\n",
       "      <td>10158</td>\n",
       "      <td>28292</td>\n",
       "      <td>62959</td>\n",
       "      <td>17863</td>\n",
       "      <td>888</td>\n",
       "      <td>25523</td>\n",
       "      <td>132509</td>\n",
       "      <td>25482</td>\n",
       "      <td>20441</td>\n",
       "      <td>...</td>\n",
       "      <td>17627</td>\n",
       "      <td>6546</td>\n",
       "      <td>16997</td>\n",
       "      <td>1807</td>\n",
       "      <td>906</td>\n",
       "      <td>45005</td>\n",
       "      <td>10633</td>\n",
       "      <td>2335</td>\n",
       "      <td>228967</td>\n",
       "      <td>69840</td>\n",
       "    </tr>\n",
       "    <tr>\n",
       "      <th>West</th>\n",
       "      <td>2590</td>\n",
       "      <td>7019</td>\n",
       "      <td>20891</td>\n",
       "      <td>45334</td>\n",
       "      <td>13088</td>\n",
       "      <td>623</td>\n",
       "      <td>19030</td>\n",
       "      <td>95959</td>\n",
       "      <td>17681</td>\n",
       "      <td>15700</td>\n",
       "      <td>...</td>\n",
       "      <td>12661</td>\n",
       "      <td>4739</td>\n",
       "      <td>13462</td>\n",
       "      <td>1314</td>\n",
       "      <td>674</td>\n",
       "      <td>33209</td>\n",
       "      <td>8124</td>\n",
       "      <td>1917</td>\n",
       "      <td>169703</td>\n",
       "      <td>52635</td>\n",
       "    </tr>\n",
       "  </tbody>\n",
       "</table>\n",
       "<p>4 rows × 21 columns</p>\n",
       "</div>"
      ],
      "text/plain": [
       "department_name  Alcohol  Babies  Bakery  Beverages  Breakfast  Bulk  \\\n",
       "region                                                                 \n",
       "Midwest             3519    7333   19677      44464      11447   557   \n",
       "Northeast           1748    5572   14464      34668       9734   463   \n",
       "South               4781   10158   28292      62959      17863   888   \n",
       "West                2590    7019   20891      45334      13088   623   \n",
       "\n",
       "department_name  Canned goods  Dairy eggs   Deli  Dry goods pasta  ...  \\\n",
       "region                                                             ...   \n",
       "Midwest                 18883       90828  18012            15077  ...   \n",
       "Northeast               13084       68992  13639            11069  ...   \n",
       "South                   25523      132509  25482            20441  ...   \n",
       "West                    19030       95959  17681            15700  ...   \n",
       "\n",
       "department_name  Household  International  Meat Seafood  Missing  Other  \\\n",
       "region                                                                    \n",
       "Midwest              13392           4722         12450     1301    639   \n",
       "Northeast             9157           3436          8454      864    496   \n",
       "South                17627           6546         16997     1807    906   \n",
       "West                 12661           4739         13462     1314    674   \n",
       "\n",
       "department_name  Pantry  Personal Care  Pets  Produce  Snacks  \n",
       "region                                                         \n",
       "Midwest           32923           7483  2195   157703   46204  \n",
       "Northeast         23351           5318  1064   118592   37891  \n",
       "South             45005          10633  2335   228967   69840  \n",
       "West              33209           8124  1917   169703   52635  \n",
       "\n",
       "[4 rows x 21 columns]"
      ]
     },
     "execution_count": 60,
     "metadata": {},
     "output_type": "execute_result"
    }
   ],
   "source": [
    "cross_dept"
   ]
  },
  {
   "cell_type": "code",
   "execution_count": 61,
   "id": "51f9e447",
   "metadata": {},
   "outputs": [
    {
     "data": {
      "text/html": [
       "<div>\n",
       "<style scoped>\n",
       "    .dataframe tbody tr th:only-of-type {\n",
       "        vertical-align: middle;\n",
       "    }\n",
       "\n",
       "    .dataframe tbody tr th {\n",
       "        vertical-align: top;\n",
       "    }\n",
       "\n",
       "    .dataframe thead th {\n",
       "        text-align: right;\n",
       "    }\n",
       "</style>\n",
       "<table border=\"1\" class=\"dataframe\">\n",
       "  <thead>\n",
       "    <tr style=\"text-align: right;\">\n",
       "      <th>region</th>\n",
       "      <th>Midwest</th>\n",
       "      <th>Northeast</th>\n",
       "      <th>South</th>\n",
       "      <th>West</th>\n",
       "    </tr>\n",
       "    <tr>\n",
       "      <th>department_name</th>\n",
       "      <th></th>\n",
       "      <th></th>\n",
       "      <th></th>\n",
       "      <th></th>\n",
       "    </tr>\n",
       "  </thead>\n",
       "  <tbody>\n",
       "    <tr>\n",
       "      <th>Alcohol</th>\n",
       "      <td>3519</td>\n",
       "      <td>1748</td>\n",
       "      <td>4781</td>\n",
       "      <td>2590</td>\n",
       "    </tr>\n",
       "    <tr>\n",
       "      <th>Babies</th>\n",
       "      <td>7333</td>\n",
       "      <td>5572</td>\n",
       "      <td>10158</td>\n",
       "      <td>7019</td>\n",
       "    </tr>\n",
       "    <tr>\n",
       "      <th>Bakery</th>\n",
       "      <td>19677</td>\n",
       "      <td>14464</td>\n",
       "      <td>28292</td>\n",
       "      <td>20891</td>\n",
       "    </tr>\n",
       "    <tr>\n",
       "      <th>Beverages</th>\n",
       "      <td>44464</td>\n",
       "      <td>34668</td>\n",
       "      <td>62959</td>\n",
       "      <td>45334</td>\n",
       "    </tr>\n",
       "    <tr>\n",
       "      <th>Breakfast</th>\n",
       "      <td>11447</td>\n",
       "      <td>9734</td>\n",
       "      <td>17863</td>\n",
       "      <td>13088</td>\n",
       "    </tr>\n",
       "    <tr>\n",
       "      <th>Bulk</th>\n",
       "      <td>557</td>\n",
       "      <td>463</td>\n",
       "      <td>888</td>\n",
       "      <td>623</td>\n",
       "    </tr>\n",
       "    <tr>\n",
       "      <th>Canned goods</th>\n",
       "      <td>18883</td>\n",
       "      <td>13084</td>\n",
       "      <td>25523</td>\n",
       "      <td>19030</td>\n",
       "    </tr>\n",
       "    <tr>\n",
       "      <th>Dairy eggs</th>\n",
       "      <td>90828</td>\n",
       "      <td>68992</td>\n",
       "      <td>132509</td>\n",
       "      <td>95959</td>\n",
       "    </tr>\n",
       "    <tr>\n",
       "      <th>Deli</th>\n",
       "      <td>18012</td>\n",
       "      <td>13639</td>\n",
       "      <td>25482</td>\n",
       "      <td>17681</td>\n",
       "    </tr>\n",
       "    <tr>\n",
       "      <th>Dry goods pasta</th>\n",
       "      <td>15077</td>\n",
       "      <td>11069</td>\n",
       "      <td>20441</td>\n",
       "      <td>15700</td>\n",
       "    </tr>\n",
       "    <tr>\n",
       "      <th>Frozen</th>\n",
       "      <td>38780</td>\n",
       "      <td>28316</td>\n",
       "      <td>53731</td>\n",
       "      <td>40153</td>\n",
       "    </tr>\n",
       "    <tr>\n",
       "      <th>Household</th>\n",
       "      <td>13392</td>\n",
       "      <td>9157</td>\n",
       "      <td>17627</td>\n",
       "      <td>12661</td>\n",
       "    </tr>\n",
       "    <tr>\n",
       "      <th>International</th>\n",
       "      <td>4722</td>\n",
       "      <td>3436</td>\n",
       "      <td>6546</td>\n",
       "      <td>4739</td>\n",
       "    </tr>\n",
       "    <tr>\n",
       "      <th>Meat Seafood</th>\n",
       "      <td>12450</td>\n",
       "      <td>8454</td>\n",
       "      <td>16997</td>\n",
       "      <td>13462</td>\n",
       "    </tr>\n",
       "    <tr>\n",
       "      <th>Missing</th>\n",
       "      <td>1301</td>\n",
       "      <td>864</td>\n",
       "      <td>1807</td>\n",
       "      <td>1314</td>\n",
       "    </tr>\n",
       "    <tr>\n",
       "      <th>Other</th>\n",
       "      <td>639</td>\n",
       "      <td>496</td>\n",
       "      <td>906</td>\n",
       "      <td>674</td>\n",
       "    </tr>\n",
       "    <tr>\n",
       "      <th>Pantry</th>\n",
       "      <td>32923</td>\n",
       "      <td>23351</td>\n",
       "      <td>45005</td>\n",
       "      <td>33209</td>\n",
       "    </tr>\n",
       "    <tr>\n",
       "      <th>Personal Care</th>\n",
       "      <td>7483</td>\n",
       "      <td>5318</td>\n",
       "      <td>10633</td>\n",
       "      <td>8124</td>\n",
       "    </tr>\n",
       "    <tr>\n",
       "      <th>Pets</th>\n",
       "      <td>2195</td>\n",
       "      <td>1064</td>\n",
       "      <td>2335</td>\n",
       "      <td>1917</td>\n",
       "    </tr>\n",
       "    <tr>\n",
       "      <th>Produce</th>\n",
       "      <td>157703</td>\n",
       "      <td>118592</td>\n",
       "      <td>228967</td>\n",
       "      <td>169703</td>\n",
       "    </tr>\n",
       "    <tr>\n",
       "      <th>Snacks</th>\n",
       "      <td>46204</td>\n",
       "      <td>37891</td>\n",
       "      <td>69840</td>\n",
       "      <td>52635</td>\n",
       "    </tr>\n",
       "  </tbody>\n",
       "</table>\n",
       "</div>"
      ],
      "text/plain": [
       "region           Midwest  Northeast   South    West\n",
       "department_name                                    \n",
       "Alcohol             3519       1748    4781    2590\n",
       "Babies              7333       5572   10158    7019\n",
       "Bakery             19677      14464   28292   20891\n",
       "Beverages          44464      34668   62959   45334\n",
       "Breakfast          11447       9734   17863   13088\n",
       "Bulk                 557        463     888     623\n",
       "Canned goods       18883      13084   25523   19030\n",
       "Dairy eggs         90828      68992  132509   95959\n",
       "Deli               18012      13639   25482   17681\n",
       "Dry goods pasta    15077      11069   20441   15700\n",
       "Frozen             38780      28316   53731   40153\n",
       "Household          13392       9157   17627   12661\n",
       "International       4722       3436    6546    4739\n",
       "Meat Seafood       12450       8454   16997   13462\n",
       "Missing             1301        864    1807    1314\n",
       "Other                639        496     906     674\n",
       "Pantry             32923      23351   45005   33209\n",
       "Personal Care       7483       5318   10633    8124\n",
       "Pets                2195       1064    2335    1917\n",
       "Produce           157703     118592  228967  169703\n",
       "Snacks             46204      37891   69840   52635"
      ]
     },
     "execution_count": 61,
     "metadata": {},
     "output_type": "execute_result"
    }
   ],
   "source": [
    "cross_dept.T"
   ]
  },
  {
   "cell_type": "code",
   "execution_count": 62,
   "id": "a95a5b2e",
   "metadata": {},
   "outputs": [],
   "source": [
    "# Create subset focused on Babies department only\n",
    "\n",
    "babies_dept = parent_young[parent_young['department_name']=='Babies']"
   ]
  },
  {
   "cell_type": "code",
   "execution_count": 63,
   "id": "d0e2ddfa",
   "metadata": {},
   "outputs": [
    {
     "data": {
      "text/plain": [
       "Middle income    26574\n",
       "Low income        3380\n",
       "Upper income       128\n",
       "Name: income_bracket, dtype: int64"
      ]
     },
     "execution_count": 63,
     "metadata": {},
     "output_type": "execute_result"
    }
   ],
   "source": [
    "babies_dept['income_bracket'].value_counts(dropna=False)"
   ]
  },
  {
   "cell_type": "code",
   "execution_count": 64,
   "id": "be1c5fa8",
   "metadata": {},
   "outputs": [
    {
     "data": {
      "image/png": "[encoded data removed]",
      "text/plain": [
       "<Figure size 432x288 with 1 Axes>"
      ]
     },
     "metadata": {
      "needs_background": "light"
     },
     "output_type": "display_data"
    }
   ],
   "source": [
    "# Create bar visual\n",
    "\n",
    "bar_babies_income = babies_dept['income_bracket'].value_counts().plot.bar(ylabel='count', title='Orders in Babies department by income bracket')"
   ]
  },
  {
   "cell_type": "code",
   "execution_count": 65,
   "id": "24851e15",
   "metadata": {},
   "outputs": [],
   "source": [
    "cross_income_babies = pd.crosstab(df['income_bracket'], df['department_name'], dropna=False)"
   ]
  },
  {
   "cell_type": "code",
   "execution_count": 66,
   "id": "9d899332",
   "metadata": {},
   "outputs": [
    {
     "data": {
      "text/html": [
       "<div>\n",
       "<style scoped>\n",
       "    .dataframe tbody tr th:only-of-type {\n",
       "        vertical-align: middle;\n",
       "    }\n",
       "\n",
       "    .dataframe tbody tr th {\n",
       "        vertical-align: top;\n",
       "    }\n",
       "\n",
       "    .dataframe thead th {\n",
       "        text-align: right;\n",
       "    }\n",
       "</style>\n",
       "<table border=\"1\" class=\"dataframe\">\n",
       "  <thead>\n",
       "    <tr style=\"text-align: right;\">\n",
       "      <th>department_name</th>\n",
       "      <th>Alcohol</th>\n",
       "      <th>Babies</th>\n",
       "      <th>Bakery</th>\n",
       "      <th>Beverages</th>\n",
       "      <th>Breakfast</th>\n",
       "      <th>Bulk</th>\n",
       "      <th>Canned goods</th>\n",
       "      <th>Dairy eggs</th>\n",
       "      <th>Deli</th>\n",
       "      <th>Dry goods pasta</th>\n",
       "      <th>...</th>\n",
       "      <th>Household</th>\n",
       "      <th>International</th>\n",
       "      <th>Meat Seafood</th>\n",
       "      <th>Missing</th>\n",
       "      <th>Other</th>\n",
       "      <th>Pantry</th>\n",
       "      <th>Personal Care</th>\n",
       "      <th>Pets</th>\n",
       "      <th>Produce</th>\n",
       "      <th>Snacks</th>\n",
       "    </tr>\n",
       "    <tr>\n",
       "      <th>income_bracket</th>\n",
       "      <th></th>\n",
       "      <th></th>\n",
       "      <th></th>\n",
       "      <th></th>\n",
       "      <th></th>\n",
       "      <th></th>\n",
       "      <th></th>\n",
       "      <th></th>\n",
       "      <th></th>\n",
       "      <th></th>\n",
       "      <th></th>\n",
       "      <th></th>\n",
       "      <th></th>\n",
       "      <th></th>\n",
       "      <th></th>\n",
       "      <th></th>\n",
       "      <th></th>\n",
       "      <th></th>\n",
       "      <th></th>\n",
       "      <th></th>\n",
       "      <th></th>\n",
       "    </tr>\n",
       "  </thead>\n",
       "  <tbody>\n",
       "    <tr>\n",
       "      <th>Low income</th>\n",
       "      <td>19808</td>\n",
       "      <td>30858</td>\n",
       "      <td>114709</td>\n",
       "      <td>405505</td>\n",
       "      <td>97368</td>\n",
       "      <td>4889</td>\n",
       "      <td>86652</td>\n",
       "      <td>535079</td>\n",
       "      <td>114096</td>\n",
       "      <td>70641</td>\n",
       "      <td>...</td>\n",
       "      <td>94179</td>\n",
       "      <td>23441</td>\n",
       "      <td>37065</td>\n",
       "      <td>7240</td>\n",
       "      <td>4183</td>\n",
       "      <td>179432</td>\n",
       "      <td>51755</td>\n",
       "      <td>9312</td>\n",
       "      <td>882102</td>\n",
       "      <td>592279</td>\n",
       "    </tr>\n",
       "    <tr>\n",
       "      <th>Middle income</th>\n",
       "      <td>108935</td>\n",
       "      <td>338511</td>\n",
       "      <td>903665</td>\n",
       "      <td>1957471</td>\n",
       "      <td>518808</td>\n",
       "      <td>25911</td>\n",
       "      <td>842648</td>\n",
       "      <td>4179327</td>\n",
       "      <td>806151</td>\n",
       "      <td>684723</td>\n",
       "      <td>...</td>\n",
       "      <td>547705</td>\n",
       "      <td>211527</td>\n",
       "      <td>576132</td>\n",
       "      <td>53165</td>\n",
       "      <td>27359</td>\n",
       "      <td>1453647</td>\n",
       "      <td>339763</td>\n",
       "      <td>74890</td>\n",
       "      <td>7417712</td>\n",
       "      <td>1978277</td>\n",
       "    </tr>\n",
       "    <tr>\n",
       "      <th>Upper income</th>\n",
       "      <td>24953</td>\n",
       "      <td>54433</td>\n",
       "      <td>154054</td>\n",
       "      <td>325147</td>\n",
       "      <td>86857</td>\n",
       "      <td>3773</td>\n",
       "      <td>138758</td>\n",
       "      <td>684341</td>\n",
       "      <td>131002</td>\n",
       "      <td>111263</td>\n",
       "      <td>...</td>\n",
       "      <td>96782</td>\n",
       "      <td>34285</td>\n",
       "      <td>95730</td>\n",
       "      <td>8740</td>\n",
       "      <td>4749</td>\n",
       "      <td>242290</td>\n",
       "      <td>56054</td>\n",
       "      <td>13514</td>\n",
       "      <td>1179477</td>\n",
       "      <td>316994</td>\n",
       "    </tr>\n",
       "  </tbody>\n",
       "</table>\n",
       "<p>3 rows × 21 columns</p>\n",
       "</div>"
      ],
      "text/plain": [
       "department_name  Alcohol  Babies  Bakery  Beverages  Breakfast   Bulk  \\\n",
       "income_bracket                                                          \n",
       "Low income         19808   30858  114709     405505      97368   4889   \n",
       "Middle income     108935  338511  903665    1957471     518808  25911   \n",
       "Upper income       24953   54433  154054     325147      86857   3773   \n",
       "\n",
       "department_name  Canned goods  Dairy eggs    Deli  Dry goods pasta  ...  \\\n",
       "income_bracket                                                      ...   \n",
       "Low income              86652      535079  114096            70641  ...   \n",
       "Middle income          842648     4179327  806151           684723  ...   \n",
       "Upper income           138758      684341  131002           111263  ...   \n",
       "\n",
       "department_name  Household  International  Meat Seafood  Missing  Other  \\\n",
       "income_bracket                                                            \n",
       "Low income           94179          23441         37065     7240   4183   \n",
       "Middle income       547705         211527        576132    53165  27359   \n",
       "Upper income         96782          34285         95730     8740   4749   \n",
       "\n",
       "department_name   Pantry  Personal Care   Pets  Produce   Snacks  \n",
       "income_bracket                                                    \n",
       "Low income        179432          51755   9312   882102   592279  \n",
       "Middle income    1453647         339763  74890  7417712  1978277  \n",
       "Upper income      242290          56054  13514  1179477   316994  \n",
       "\n",
       "[3 rows x 21 columns]"
      ]
     },
     "execution_count": 66,
     "metadata": {},
     "output_type": "execute_result"
    }
   ],
   "source": [
    "cross_income_babies"
   ]
  },
  {
   "cell_type": "code",
   "execution_count": 67,
   "id": "5561a1ef",
   "metadata": {},
   "outputs": [
    {
     "data": {
      "text/plain": [
       "income_bracket\n",
       "Low income        30858\n",
       "Middle income    338511\n",
       "Upper income      54433\n",
       "Name: Babies, dtype: int64"
      ]
     },
     "execution_count": 67,
     "metadata": {},
     "output_type": "execute_result"
    }
   ],
   "source": [
    "cross_income_babies['Babies']"
   ]
  },
  {
   "cell_type": "code",
   "execution_count": 68,
   "id": "cc68e0c5",
   "metadata": {},
   "outputs": [],
   "source": [
    "# Normalize figures\n",
    "\n",
    "low_inc_yp_norm = (3380/30858)*100"
   ]
  },
  {
   "cell_type": "code",
   "execution_count": 69,
   "id": "c1935211",
   "metadata": {},
   "outputs": [],
   "source": [
    "mid_inc_yp_norm = (26574/338511)*100"
   ]
  },
  {
   "cell_type": "code",
   "execution_count": 70,
   "id": "321b5fb7",
   "metadata": {},
   "outputs": [],
   "source": [
    "upper_inc_yp_norm = (128/54433)*100"
   ]
  },
  {
   "cell_type": "code",
   "execution_count": 71,
   "id": "6ae3ffec",
   "metadata": {},
   "outputs": [
    {
     "name": "stdout",
     "output_type": "stream",
     "text": [
      "10.953399442608076 7.850261882184036 0.2351514706152518\n"
     ]
    }
   ],
   "source": [
    "# These figures represent the percentages of each young parent's income level\n",
    "# against the total of each respective income level\n",
    "\n",
    "print(low_inc_yp_norm, mid_inc_yp_norm, upper_inc_yp_norm)"
   ]
  },
  {
   "cell_type": "code",
   "execution_count": 72,
   "id": "88902148",
   "metadata": {},
   "outputs": [],
   "source": [
    "# Check normalizations against each other by all and young parents\n",
    "\n",
    "total_income_count = sum(cross_income_babies['Babies'])"
   ]
  },
  {
   "cell_type": "code",
   "execution_count": 73,
   "id": "e09fc9c4",
   "metadata": {},
   "outputs": [
    {
     "data": {
      "text/plain": [
       "423802"
      ]
     },
     "execution_count": 73,
     "metadata": {},
     "output_type": "execute_result"
    }
   ],
   "source": [
    "total_income_count"
   ]
  },
  {
   "cell_type": "code",
   "execution_count": 74,
   "id": "5ea49397",
   "metadata": {},
   "outputs": [],
   "source": [
    "total_low_inc_norm = (30858/423802)*100"
   ]
  },
  {
   "cell_type": "code",
   "execution_count": 75,
   "id": "929a43dd",
   "metadata": {},
   "outputs": [],
   "source": [
    "total_mid_inc_norm = (338511/423802)*100"
   ]
  },
  {
   "cell_type": "code",
   "execution_count": 76,
   "id": "5a580bfc",
   "metadata": {},
   "outputs": [],
   "source": [
    "total_upper_inc_norm = (54433/423802)*100"
   ]
  },
  {
   "cell_type": "code",
   "execution_count": 77,
   "id": "583e66fd",
   "metadata": {},
   "outputs": [
    {
     "name": "stdout",
     "output_type": "stream",
     "text": [
      "7.281230385887749 79.87480002453977 12.84396958957249\n"
     ]
    }
   ],
   "source": [
    "# These figures represent respective percentages of each income level \n",
    "# against the all users with orders in 'Babies' variable\n",
    "\n",
    "print(total_low_inc_norm,\n",
    "     total_mid_inc_norm,\n",
    "     total_upper_inc_norm)"
   ]
  },
  {
   "cell_type": "code",
   "execution_count": 78,
   "id": "a1dd4a55",
   "metadata": {},
   "outputs": [],
   "source": [
    "yp_income_count = (26574+3380+128)"
   ]
  },
  {
   "cell_type": "code",
   "execution_count": 79,
   "id": "6fc66ec2",
   "metadata": {},
   "outputs": [
    {
     "name": "stdout",
     "output_type": "stream",
     "text": [
      "30082\n"
     ]
    }
   ],
   "source": [
    "print(yp_income_count)"
   ]
  },
  {
   "cell_type": "code",
   "execution_count": 80,
   "id": "863cf992",
   "metadata": {},
   "outputs": [],
   "source": [
    "yp_low_inc_norm = (3380/30082)*100"
   ]
  },
  {
   "cell_type": "code",
   "execution_count": 81,
   "id": "ec41874c",
   "metadata": {},
   "outputs": [],
   "source": [
    "yp_mid_inc_norm = (26574/30082)*100"
   ]
  },
  {
   "cell_type": "code",
   "execution_count": 82,
   "id": "13327fc5",
   "metadata": {},
   "outputs": [],
   "source": [
    "yp_upper_inc_norm = (128/30082)*100"
   ]
  },
  {
   "cell_type": "code",
   "execution_count": 83,
   "id": "f8a4e449",
   "metadata": {},
   "outputs": [
    {
     "name": "stdout",
     "output_type": "stream",
     "text": [
      "11.235955056179774 88.33854132039093 0.42550362342929327\n"
     ]
    }
   ],
   "source": [
    "# These figures represent respective percentages of each income level \n",
    "# against the totals of only young parents with orders in 'Babies' variable\n",
    "\n",
    "print(yp_low_inc_norm, yp_mid_inc_norm, yp_upper_inc_norm)"
   ]
  },
  {
   "cell_type": "code",
   "execution_count": 84,
   "id": "7833bc1b",
   "metadata": {},
   "outputs": [],
   "source": [
    "# Examine babies department across regions\n",
    "\n",
    "cross_babies = pd.crosstab(babies_dept['region'], babies_dept['income_bracket'])"
   ]
  },
  {
   "cell_type": "code",
   "execution_count": 85,
   "id": "5c81dc59",
   "metadata": {},
   "outputs": [
    {
     "data": {
      "text/html": [
       "<div>\n",
       "<style scoped>\n",
       "    .dataframe tbody tr th:only-of-type {\n",
       "        vertical-align: middle;\n",
       "    }\n",
       "\n",
       "    .dataframe tbody tr th {\n",
       "        vertical-align: top;\n",
       "    }\n",
       "\n",
       "    .dataframe thead th {\n",
       "        text-align: right;\n",
       "    }\n",
       "</style>\n",
       "<table border=\"1\" class=\"dataframe\">\n",
       "  <thead>\n",
       "    <tr style=\"text-align: right;\">\n",
       "      <th>income_bracket</th>\n",
       "      <th>Low income</th>\n",
       "      <th>Middle income</th>\n",
       "      <th>Upper income</th>\n",
       "    </tr>\n",
       "    <tr>\n",
       "      <th>region</th>\n",
       "      <th></th>\n",
       "      <th></th>\n",
       "      <th></th>\n",
       "    </tr>\n",
       "  </thead>\n",
       "  <tbody>\n",
       "    <tr>\n",
       "      <th>Midwest</th>\n",
       "      <td>755</td>\n",
       "      <td>6567</td>\n",
       "      <td>11</td>\n",
       "    </tr>\n",
       "    <tr>\n",
       "      <th>Northeast</th>\n",
       "      <td>437</td>\n",
       "      <td>5134</td>\n",
       "      <td>1</td>\n",
       "    </tr>\n",
       "    <tr>\n",
       "      <th>South</th>\n",
       "      <td>1434</td>\n",
       "      <td>8613</td>\n",
       "      <td>111</td>\n",
       "    </tr>\n",
       "    <tr>\n",
       "      <th>West</th>\n",
       "      <td>754</td>\n",
       "      <td>6260</td>\n",
       "      <td>5</td>\n",
       "    </tr>\n",
       "  </tbody>\n",
       "</table>\n",
       "</div>"
      ],
      "text/plain": [
       "income_bracket  Low income  Middle income  Upper income\n",
       "region                                                 \n",
       "Midwest                755           6567            11\n",
       "Northeast              437           5134             1\n",
       "South                 1434           8613           111\n",
       "West                   754           6260             5"
      ]
     },
     "execution_count": 85,
     "metadata": {},
     "output_type": "execute_result"
    }
   ],
   "source": [
    "cross_babies"
   ]
  },
  {
   "cell_type": "code",
   "execution_count": 87,
   "id": "954d7593",
   "metadata": {},
   "outputs": [
    {
     "data": {
      "image/png": "[encoded data removed]",
      "text/plain": [
       "<Figure size 432x288 with 1 Axes>"
      ]
     },
     "metadata": {
      "needs_background": "light"
     },
     "output_type": "display_data"
    }
   ],
   "source": [
    "bar_babies = cross_babies.plot(kind='bar',stacked=True, title='Orders from Babies department by users with children by region', ylabel='count')"
   ]
  },
  {
   "cell_type": "code",
   "execution_count": 85,
   "id": "75c2cde2",
   "metadata": {},
   "outputs": [],
   "source": [
    "# Export png\n",
    "\n",
    "bar_babies.figure.savefig(os.path.join(path, '04 Analysis', 'Visualizations', 'bar_babies.png'))"
   ]
  },
  {
   "cell_type": "code",
   "execution_count": 77,
   "id": "a1edf54c",
   "metadata": {},
   "outputs": [],
   "source": [
    "# Export parent_young for safety\n",
    "\n",
    "parent_young.to_csv(os.path.join(path, '02 Data', 'Prepared data', 'young_parents.csv'))"
   ]
  },
  {
   "cell_type": "code",
   "execution_count": 88,
   "id": "5b857eb9",
   "metadata": {},
   "outputs": [
    {
     "data": {
      "text/plain": [
       "Produce            674965\n",
       "Dairy eggs         388288\n",
       "Snacks             206570\n",
       "Beverages          187425\n",
       "Frozen             160980\n",
       "Pantry             134488\n",
       "Bakery              83324\n",
       "Canned goods        76520\n",
       "Deli                74814\n",
       "Dry goods pasta     62287\n",
       "Household           52837\n",
       "Breakfast           52132\n",
       "Meat Seafood        51363\n",
       "Personal Care       31558\n",
       "Babies              30082\n",
       "International       19443\n",
       "Alcohol             12638\n",
       "Pets                 7511\n",
       "Missing              5286\n",
       "Other                2715\n",
       "Bulk                 2531\n",
       "Name: department_name, dtype: int64"
      ]
     },
     "execution_count": 88,
     "metadata": {},
     "output_type": "execute_result"
    }
   ],
   "source": [
    "# Compare parent_young purchases by department against whole df.\n",
    "\n",
    "parent_young['department_name'].value_counts(dropna=False)"
   ]
  },
  {
   "cell_type": "code",
   "execution_count": 89,
   "id": "25e60c82",
   "metadata": {},
   "outputs": [
    {
     "data": {
      "image/png": "[encoded data removed]",
      "text/plain": [
       "<Figure size 432x288 with 1 Axes>"
      ]
     },
     "metadata": {
      "needs_background": "light"
     },
     "output_type": "display_data"
    }
   ],
   "source": [
    "bar_py_dept = parent_young['department_name'].value_counts().plot.bar(title='Orders by young parents by department', ylabel='count')"
   ]
  },
  {
   "cell_type": "code",
   "execution_count": 90,
   "id": "842d66bc",
   "metadata": {},
   "outputs": [
    {
     "data": {
      "text/plain": [
       "Produce            9479291\n",
       "Dairy eggs         5398747\n",
       "Snacks             2887550\n",
       "Beverages          2688123\n",
       "Frozen             2234743\n",
       "Pantry             1875369\n",
       "Bakery             1172428\n",
       "Canned goods       1068058\n",
       "Deli               1051249\n",
       "Dry goods pasta     866627\n",
       "Household           738666\n",
       "Meat Seafood        708927\n",
       "Breakfast           703033\n",
       "Personal Care       447572\n",
       "Babies              423802\n",
       "International       269253\n",
       "Alcohol             153696\n",
       "Pets                 97716\n",
       "Missing              69145\n",
       "Other                36291\n",
       "Bulk                 34573\n",
       "Name: department_name, dtype: int64"
      ]
     },
     "execution_count": 90,
     "metadata": {},
     "output_type": "execute_result"
    }
   ],
   "source": [
    "df['department_name'].value_counts(dropna=False)"
   ]
  },
  {
   "cell_type": "code",
   "execution_count": 91,
   "id": "2c5b5987",
   "metadata": {},
   "outputs": [
    {
     "data": {
      "image/png": "[encoded data removed]",
      "text/plain": [
       "<Figure size 432x288 with 1 Axes>"
      ]
     },
     "metadata": {
      "needs_background": "light"
     },
     "output_type": "display_data"
    }
   ],
   "source": [
    "bar_all_dept = df['department_name'].value_counts().plot.bar()"
   ]
  },
  {
   "cell_type": "code",
   "execution_count": 92,
   "id": "e630f271",
   "metadata": {},
   "outputs": [
    {
     "data": {
      "text/plain": [
       "Regular activity    30964564\n",
       "Low activity         1440295\n",
       "Name: activity_flag, dtype: int64"
      ]
     },
     "execution_count": 92,
     "metadata": {},
     "output_type": "execute_result"
    }
   ],
   "source": [
    "df['activity_flag'].value_counts(dropna=False)"
   ]
  },
  {
   "cell_type": "code",
   "execution_count": 93,
   "id": "523dde8d",
   "metadata": {},
   "outputs": [
    {
     "data": {
      "text/plain": [
       "Mid-range product     21860860\n",
       "Low-range product     10126321\n",
       "High-range product      417678\n",
       "Name: price_range_loc, dtype: int64"
      ]
     },
     "execution_count": 93,
     "metadata": {},
     "output_type": "execute_result"
    }
   ],
   "source": [
    "df['price_range_loc'].value_counts(dropna=False)"
   ]
  },
  {
   "cell_type": "markdown",
   "id": "ae262cae",
   "metadata": {},
   "source": [
    "# Check other young parent variables"
   ]
  },
  {
   "cell_type": "code",
   "execution_count": 94,
   "id": "a7f8ad2b",
   "metadata": {},
   "outputs": [],
   "source": [
    "# Import additional variables for df\n",
    "vars_list_2 = ['order_id', 'user_id', 'price_range_loc', 'max_order', 'loyalty_flag', 'Spender_type', 'customer_frequency', 'region', 'activity_flag', 'income_bracket', 'department_name', 'day_ordered', 'age_bracket', 'children']\n"
   ]
  },
  {
   "cell_type": "code",
   "execution_count": 95,
   "id": "fbeca384",
   "metadata": {},
   "outputs": [],
   "source": [
    "# Import new data\n",
    "\n",
    "yp_2 = pd.read_csv(os.path.join(path, '02 Data', 'Prepared data', 'instacart_dataframe_v2.csv'), usecols=vars_list_2)"
   ]
  },
  {
   "cell_type": "code",
   "execution_count": 96,
   "id": "31974a8c",
   "metadata": {},
   "outputs": [
    {
     "data": {
      "text/plain": [
       "(32404859, 14)"
      ]
     },
     "execution_count": 96,
     "metadata": {},
     "output_type": "execute_result"
    }
   ],
   "source": [
    "# Check output\n",
    "\n",
    "yp_2.shape"
   ]
  },
  {
   "cell_type": "code",
   "execution_count": 97,
   "id": "afe2f807",
   "metadata": {},
   "outputs": [
    {
     "data": {
      "text/html": [
       "<div>\n",
       "<style scoped>\n",
       "    .dataframe tbody tr th:only-of-type {\n",
       "        vertical-align: middle;\n",
       "    }\n",
       "\n",
       "    .dataframe tbody tr th {\n",
       "        vertical-align: top;\n",
       "    }\n",
       "\n",
       "    .dataframe thead th {\n",
       "        text-align: right;\n",
       "    }\n",
       "</style>\n",
       "<table border=\"1\" class=\"dataframe\">\n",
       "  <thead>\n",
       "    <tr style=\"text-align: right;\">\n",
       "      <th></th>\n",
       "      <th>order_id</th>\n",
       "      <th>user_id</th>\n",
       "      <th>price_range_loc</th>\n",
       "      <th>max_order</th>\n",
       "      <th>loyalty_flag</th>\n",
       "      <th>Spender_type</th>\n",
       "      <th>customer_frequency</th>\n",
       "      <th>region</th>\n",
       "      <th>activity_flag</th>\n",
       "      <th>department_name</th>\n",
       "      <th>day_ordered</th>\n",
       "      <th>income_bracket</th>\n",
       "      <th>age_bracket</th>\n",
       "      <th>children</th>\n",
       "    </tr>\n",
       "  </thead>\n",
       "  <tbody>\n",
       "    <tr>\n",
       "      <th>0</th>\n",
       "      <td>2539329</td>\n",
       "      <td>1</td>\n",
       "      <td>Mid-range product</td>\n",
       "      <td>10</td>\n",
       "      <td>New customer</td>\n",
       "      <td>Low_spender</td>\n",
       "      <td>Regular customer</td>\n",
       "      <td>South</td>\n",
       "      <td>Regular activity</td>\n",
       "      <td>Beverages</td>\n",
       "      <td>Monday</td>\n",
       "      <td>Low income</td>\n",
       "      <td>Adult</td>\n",
       "      <td>Children</td>\n",
       "    </tr>\n",
       "    <tr>\n",
       "      <th>1</th>\n",
       "      <td>2398795</td>\n",
       "      <td>1</td>\n",
       "      <td>Mid-range product</td>\n",
       "      <td>10</td>\n",
       "      <td>New customer</td>\n",
       "      <td>Low_spender</td>\n",
       "      <td>Regular customer</td>\n",
       "      <td>South</td>\n",
       "      <td>Regular activity</td>\n",
       "      <td>Beverages</td>\n",
       "      <td>Tuesday</td>\n",
       "      <td>Low income</td>\n",
       "      <td>Adult</td>\n",
       "      <td>Children</td>\n",
       "    </tr>\n",
       "    <tr>\n",
       "      <th>2</th>\n",
       "      <td>473747</td>\n",
       "      <td>1</td>\n",
       "      <td>Mid-range product</td>\n",
       "      <td>10</td>\n",
       "      <td>New customer</td>\n",
       "      <td>Low_spender</td>\n",
       "      <td>Regular customer</td>\n",
       "      <td>South</td>\n",
       "      <td>Regular activity</td>\n",
       "      <td>Beverages</td>\n",
       "      <td>Tuesday</td>\n",
       "      <td>Low income</td>\n",
       "      <td>Adult</td>\n",
       "      <td>Children</td>\n",
       "    </tr>\n",
       "    <tr>\n",
       "      <th>3</th>\n",
       "      <td>2254736</td>\n",
       "      <td>1</td>\n",
       "      <td>Mid-range product</td>\n",
       "      <td>10</td>\n",
       "      <td>New customer</td>\n",
       "      <td>Low_spender</td>\n",
       "      <td>Regular customer</td>\n",
       "      <td>South</td>\n",
       "      <td>Regular activity</td>\n",
       "      <td>Beverages</td>\n",
       "      <td>Wednesday</td>\n",
       "      <td>Low income</td>\n",
       "      <td>Adult</td>\n",
       "      <td>Children</td>\n",
       "    </tr>\n",
       "    <tr>\n",
       "      <th>4</th>\n",
       "      <td>431534</td>\n",
       "      <td>1</td>\n",
       "      <td>Mid-range product</td>\n",
       "      <td>10</td>\n",
       "      <td>New customer</td>\n",
       "      <td>Low_spender</td>\n",
       "      <td>Regular customer</td>\n",
       "      <td>South</td>\n",
       "      <td>Regular activity</td>\n",
       "      <td>Beverages</td>\n",
       "      <td>Wednesday</td>\n",
       "      <td>Low income</td>\n",
       "      <td>Adult</td>\n",
       "      <td>Children</td>\n",
       "    </tr>\n",
       "  </tbody>\n",
       "</table>\n",
       "</div>"
      ],
      "text/plain": [
       "   order_id  user_id    price_range_loc  max_order  loyalty_flag Spender_type  \\\n",
       "0   2539329        1  Mid-range product         10  New customer  Low_spender   \n",
       "1   2398795        1  Mid-range product         10  New customer  Low_spender   \n",
       "2    473747        1  Mid-range product         10  New customer  Low_spender   \n",
       "3   2254736        1  Mid-range product         10  New customer  Low_spender   \n",
       "4    431534        1  Mid-range product         10  New customer  Low_spender   \n",
       "\n",
       "  customer_frequency region     activity_flag department_name day_ordered  \\\n",
       "0   Regular customer  South  Regular activity       Beverages      Monday   \n",
       "1   Regular customer  South  Regular activity       Beverages     Tuesday   \n",
       "2   Regular customer  South  Regular activity       Beverages     Tuesday   \n",
       "3   Regular customer  South  Regular activity       Beverages   Wednesday   \n",
       "4   Regular customer  South  Regular activity       Beverages   Wednesday   \n",
       "\n",
       "  income_bracket age_bracket  children  \n",
       "0     Low income       Adult  Children  \n",
       "1     Low income       Adult  Children  \n",
       "2     Low income       Adult  Children  \n",
       "3     Low income       Adult  Children  \n",
       "4     Low income       Adult  Children  "
      ]
     },
     "execution_count": 97,
     "metadata": {},
     "output_type": "execute_result"
    }
   ],
   "source": [
    "yp_2.head()"
   ]
  },
  {
   "cell_type": "code",
   "execution_count": 98,
   "id": "4dbf72ff",
   "metadata": {},
   "outputs": [
    {
     "data": {
      "text/plain": [
       "Children       24307356\n",
       "No children     8097503\n",
       "Name: children, dtype: int64"
      ]
     },
     "execution_count": 98,
     "metadata": {},
     "output_type": "execute_result"
    }
   ],
   "source": [
    "yp_2['children'].value_counts(dropna=False)"
   ]
  },
  {
   "cell_type": "code",
   "execution_count": 99,
   "id": "65d1fb60",
   "metadata": {},
   "outputs": [],
   "source": [
    "# Create subset for young parents purchasing in babies department\n",
    "\n",
    "df_yp = yp_2[(yp_2['children']=='Children') & (yp_2['age_bracket']=='Young adult') & (yp_2['department_name']=='Babies')]"
   ]
  },
  {
   "cell_type": "code",
   "execution_count": 100,
   "id": "848eded9",
   "metadata": {},
   "outputs": [
    {
     "data": {
      "text/plain": [
       "(30082, 14)"
      ]
     },
     "execution_count": 100,
     "metadata": {},
     "output_type": "execute_result"
    }
   ],
   "source": [
    "df_yp.shape"
   ]
  },
  {
   "cell_type": "code",
   "execution_count": 101,
   "id": "6a09c8b4",
   "metadata": {},
   "outputs": [
    {
     "data": {
      "text/plain": [
       "Children    30082\n",
       "Name: children, dtype: int64"
      ]
     },
     "execution_count": 101,
     "metadata": {},
     "output_type": "execute_result"
    }
   ],
   "source": [
    "df_yp['children'].value_counts(dropna=False)"
   ]
  },
  {
   "cell_type": "code",
   "execution_count": 102,
   "id": "d0ac97bf",
   "metadata": {},
   "outputs": [
    {
     "data": {
      "text/plain": [
       "Young adult    30082\n",
       "Name: age_bracket, dtype: int64"
      ]
     },
     "execution_count": 102,
     "metadata": {},
     "output_type": "execute_result"
    }
   ],
   "source": [
    "df_yp['age_bracket'].value_counts(dropna=False)"
   ]
  },
  {
   "cell_type": "code",
   "execution_count": 103,
   "id": "d811ec1b",
   "metadata": {},
   "outputs": [
    {
     "data": {
      "text/plain": [
       "Babies    30082\n",
       "Name: department_name, dtype: int64"
      ]
     },
     "execution_count": 103,
     "metadata": {},
     "output_type": "execute_result"
    }
   ],
   "source": [
    "df_yp['department_name'].value_counts(dropna=False)"
   ]
  },
  {
   "cell_type": "code",
   "execution_count": 152,
   "id": "5820f801",
   "metadata": {},
   "outputs": [],
   "source": [
    "# Export for safety\n",
    "\n",
    "df_yp.to_csv(os.path.join(path, '02 Data', 'Prepared data', 'ic_young_parent_babies.csv'))"
   ]
  },
  {
   "cell_type": "code",
   "execution_count": 104,
   "id": "d12b4967",
   "metadata": {},
   "outputs": [
    {
     "data": {
      "text/plain": [
       "Regular customer    14003\n",
       "Loyal customer      11795\n",
       "New customer         4284\n",
       "Name: loyalty_flag, dtype: int64"
      ]
     },
     "execution_count": 104,
     "metadata": {},
     "output_type": "execute_result"
    }
   ],
   "source": [
    "df_yp['loyalty_flag'].value_counts(dropna=False)"
   ]
  },
  {
   "cell_type": "code",
   "execution_count": 105,
   "id": "f6a8a71c",
   "metadata": {},
   "outputs": [
    {
     "data": {
      "text/plain": [
       "Mid-range product    21303\n",
       "Low-range product     8779\n",
       "Name: price_range_loc, dtype: int64"
      ]
     },
     "execution_count": 105,
     "metadata": {},
     "output_type": "execute_result"
    }
   ],
   "source": [
    "df_yp['price_range_loc'].value_counts(dropna=False)"
   ]
  },
  {
   "cell_type": "code",
   "execution_count": 106,
   "id": "e33f368c",
   "metadata": {},
   "outputs": [],
   "source": [
    "# Exmaine relationship between loyalty and price range\n",
    "\n",
    "yp_loyal_price = pd.crosstab(df_yp['loyalty_flag'], df_yp['price_range_loc'], dropna=False)"
   ]
  },
  {
   "cell_type": "code",
   "execution_count": 107,
   "id": "7497e95b",
   "metadata": {},
   "outputs": [
    {
     "data": {
      "text/html": [
       "<div>\n",
       "<style scoped>\n",
       "    .dataframe tbody tr th:only-of-type {\n",
       "        vertical-align: middle;\n",
       "    }\n",
       "\n",
       "    .dataframe tbody tr th {\n",
       "        vertical-align: top;\n",
       "    }\n",
       "\n",
       "    .dataframe thead th {\n",
       "        text-align: right;\n",
       "    }\n",
       "</style>\n",
       "<table border=\"1\" class=\"dataframe\">\n",
       "  <thead>\n",
       "    <tr style=\"text-align: right;\">\n",
       "      <th>price_range_loc</th>\n",
       "      <th>Low-range product</th>\n",
       "      <th>Mid-range product</th>\n",
       "    </tr>\n",
       "    <tr>\n",
       "      <th>loyalty_flag</th>\n",
       "      <th></th>\n",
       "      <th></th>\n",
       "    </tr>\n",
       "  </thead>\n",
       "  <tbody>\n",
       "    <tr>\n",
       "      <th>Loyal customer</th>\n",
       "      <td>3306</td>\n",
       "      <td>8489</td>\n",
       "    </tr>\n",
       "    <tr>\n",
       "      <th>New customer</th>\n",
       "      <td>1297</td>\n",
       "      <td>2987</td>\n",
       "    </tr>\n",
       "    <tr>\n",
       "      <th>Regular customer</th>\n",
       "      <td>4176</td>\n",
       "      <td>9827</td>\n",
       "    </tr>\n",
       "  </tbody>\n",
       "</table>\n",
       "</div>"
      ],
      "text/plain": [
       "price_range_loc   Low-range product  Mid-range product\n",
       "loyalty_flag                                          \n",
       "Loyal customer                 3306               8489\n",
       "New customer                   1297               2987\n",
       "Regular customer               4176               9827"
      ]
     },
     "execution_count": 107,
     "metadata": {},
     "output_type": "execute_result"
    }
   ],
   "source": [
    "yp_loyal_price"
   ]
  },
  {
   "cell_type": "code",
   "execution_count": 108,
   "id": "1c434b8d",
   "metadata": {},
   "outputs": [
    {
     "data": {
      "image/png": "[encoded data removed]",
      "text/plain": [
       "<Figure size 432x288 with 1 Axes>"
      ]
     },
     "metadata": {
      "needs_background": "light"
     },
     "output_type": "display_data"
    }
   ],
   "source": [
    "bar_loyal_price = yp_loyal_price.plot(kind='bar', ylabel='count', title='Product price range by loyalty')"
   ]
  },
  {
   "cell_type": "code",
   "execution_count": 150,
   "id": "d07340c7",
   "metadata": {},
   "outputs": [],
   "source": [
    "# Export image\n",
    "\n",
    "bar_loyal_price.figure.savefig(os.path.join(path, '04 Analysis', 'Visualizations', 'bar_loyal_price.png'))"
   ]
  },
  {
   "cell_type": "code",
   "execution_count": 153,
   "id": "30d25acb",
   "metadata": {},
   "outputs": [],
   "source": [
    "# When are middle income loyal customers making purchases?\n",
    "\n",
    "df_middle_loyal = df_yp[(df_yp['loyalty_flag']=='Loyal customer') & (df_yp['income_bracket']=='Middle income')]"
   ]
  },
  {
   "cell_type": "code",
   "execution_count": 154,
   "id": "7a764166",
   "metadata": {},
   "outputs": [
    {
     "data": {
      "text/plain": [
       "(10553, 14)"
      ]
     },
     "execution_count": 154,
     "metadata": {},
     "output_type": "execute_result"
    }
   ],
   "source": [
    "df_middle_loyal.shape"
   ]
  },
  {
   "cell_type": "code",
   "execution_count": 155,
   "id": "72bf8037",
   "metadata": {},
   "outputs": [
    {
     "data": {
      "text/html": [
       "<div>\n",
       "<style scoped>\n",
       "    .dataframe tbody tr th:only-of-type {\n",
       "        vertical-align: middle;\n",
       "    }\n",
       "\n",
       "    .dataframe tbody tr th {\n",
       "        vertical-align: top;\n",
       "    }\n",
       "\n",
       "    .dataframe thead th {\n",
       "        text-align: right;\n",
       "    }\n",
       "</style>\n",
       "<table border=\"1\" class=\"dataframe\">\n",
       "  <thead>\n",
       "    <tr style=\"text-align: right;\">\n",
       "      <th></th>\n",
       "      <th>order_id</th>\n",
       "      <th>user_id</th>\n",
       "      <th>price_range_loc</th>\n",
       "      <th>max_order</th>\n",
       "      <th>loyalty_flag</th>\n",
       "      <th>Spender_type</th>\n",
       "      <th>customer_frequency</th>\n",
       "      <th>region</th>\n",
       "      <th>activity_flag</th>\n",
       "      <th>department_name</th>\n",
       "      <th>day_ordered</th>\n",
       "      <th>income_bracket</th>\n",
       "      <th>age_bracket</th>\n",
       "      <th>children</th>\n",
       "    </tr>\n",
       "  </thead>\n",
       "  <tbody>\n",
       "    <tr>\n",
       "      <th>98064</th>\n",
       "      <td>703917</td>\n",
       "      <td>17115</td>\n",
       "      <td>Mid-range product</td>\n",
       "      <td>43</td>\n",
       "      <td>Loyal customer</td>\n",
       "      <td>Low_spender</td>\n",
       "      <td>Frequent customer</td>\n",
       "      <td>Midwest</td>\n",
       "      <td>Regular activity</td>\n",
       "      <td>Babies</td>\n",
       "      <td>Friday</td>\n",
       "      <td>Middle income</td>\n",
       "      <td>Young adult</td>\n",
       "      <td>Children</td>\n",
       "    </tr>\n",
       "    <tr>\n",
       "      <th>98142</th>\n",
       "      <td>1227959</td>\n",
       "      <td>17115</td>\n",
       "      <td>Mid-range product</td>\n",
       "      <td>43</td>\n",
       "      <td>Loyal customer</td>\n",
       "      <td>Low_spender</td>\n",
       "      <td>Frequent customer</td>\n",
       "      <td>Midwest</td>\n",
       "      <td>Regular activity</td>\n",
       "      <td>Babies</td>\n",
       "      <td>Tuesday</td>\n",
       "      <td>Middle income</td>\n",
       "      <td>Young adult</td>\n",
       "      <td>Children</td>\n",
       "    </tr>\n",
       "    <tr>\n",
       "      <th>98143</th>\n",
       "      <td>1780991</td>\n",
       "      <td>17115</td>\n",
       "      <td>Mid-range product</td>\n",
       "      <td>43</td>\n",
       "      <td>Loyal customer</td>\n",
       "      <td>Low_spender</td>\n",
       "      <td>Frequent customer</td>\n",
       "      <td>Midwest</td>\n",
       "      <td>Regular activity</td>\n",
       "      <td>Babies</td>\n",
       "      <td>Sunday</td>\n",
       "      <td>Middle income</td>\n",
       "      <td>Young adult</td>\n",
       "      <td>Children</td>\n",
       "    </tr>\n",
       "    <tr>\n",
       "      <th>98144</th>\n",
       "      <td>2021830</td>\n",
       "      <td>17115</td>\n",
       "      <td>Mid-range product</td>\n",
       "      <td>43</td>\n",
       "      <td>Loyal customer</td>\n",
       "      <td>Low_spender</td>\n",
       "      <td>Frequent customer</td>\n",
       "      <td>Midwest</td>\n",
       "      <td>Regular activity</td>\n",
       "      <td>Babies</td>\n",
       "      <td>Thursday</td>\n",
       "      <td>Middle income</td>\n",
       "      <td>Young adult</td>\n",
       "      <td>Children</td>\n",
       "    </tr>\n",
       "    <tr>\n",
       "      <th>98145</th>\n",
       "      <td>289394</td>\n",
       "      <td>17115</td>\n",
       "      <td>Low-range product</td>\n",
       "      <td>43</td>\n",
       "      <td>Loyal customer</td>\n",
       "      <td>Low_spender</td>\n",
       "      <td>Frequent customer</td>\n",
       "      <td>Midwest</td>\n",
       "      <td>Regular activity</td>\n",
       "      <td>Babies</td>\n",
       "      <td>Sunday</td>\n",
       "      <td>Middle income</td>\n",
       "      <td>Young adult</td>\n",
       "      <td>Children</td>\n",
       "    </tr>\n",
       "  </tbody>\n",
       "</table>\n",
       "</div>"
      ],
      "text/plain": [
       "       order_id  user_id    price_range_loc  max_order    loyalty_flag  \\\n",
       "98064    703917    17115  Mid-range product         43  Loyal customer   \n",
       "98142   1227959    17115  Mid-range product         43  Loyal customer   \n",
       "98143   1780991    17115  Mid-range product         43  Loyal customer   \n",
       "98144   2021830    17115  Mid-range product         43  Loyal customer   \n",
       "98145    289394    17115  Low-range product         43  Loyal customer   \n",
       "\n",
       "      Spender_type customer_frequency   region     activity_flag  \\\n",
       "98064  Low_spender  Frequent customer  Midwest  Regular activity   \n",
       "98142  Low_spender  Frequent customer  Midwest  Regular activity   \n",
       "98143  Low_spender  Frequent customer  Midwest  Regular activity   \n",
       "98144  Low_spender  Frequent customer  Midwest  Regular activity   \n",
       "98145  Low_spender  Frequent customer  Midwest  Regular activity   \n",
       "\n",
       "      department_name day_ordered income_bracket  age_bracket  children  \n",
       "98064          Babies      Friday  Middle income  Young adult  Children  \n",
       "98142          Babies     Tuesday  Middle income  Young adult  Children  \n",
       "98143          Babies      Sunday  Middle income  Young adult  Children  \n",
       "98144          Babies    Thursday  Middle income  Young adult  Children  \n",
       "98145          Babies      Sunday  Middle income  Young adult  Children  "
      ]
     },
     "execution_count": 155,
     "metadata": {},
     "output_type": "execute_result"
    }
   ],
   "source": [
    "df_middle_loyal.head()"
   ]
  },
  {
   "cell_type": "code",
   "execution_count": 156,
   "id": "dfcedb41",
   "metadata": {},
   "outputs": [
    {
     "data": {
      "image/png": "[encoded data removed]",
      "text/plain": [
       "<Figure size 432x288 with 1 Axes>"
      ]
     },
     "metadata": {
      "needs_background": "light"
     },
     "output_type": "display_data"
    }
   ],
   "source": [
    "line_middle_loyal = sns.lineplot(data = df_middle_loyal, x = 'day_ordered', y = 'max_order')"
   ]
  },
  {
   "cell_type": "code",
   "execution_count": 158,
   "id": "18183d1f",
   "metadata": {},
   "outputs": [
    {
     "data": {
      "image/png": "[encoded data removed]",
      "text/plain": [
       "<Figure size 432x288 with 1 Axes>"
      ]
     },
     "metadata": {
      "needs_background": "light"
     },
     "output_type": "display_data"
    }
   ],
   "source": [
    "bar_middle_loyal = df_middle_loyal['day_ordered'].value_counts().plot.bar(ylabel='count', title='Days orders placed by middle income loyal customers')"
   ]
  },
  {
   "cell_type": "code",
   "execution_count": 160,
   "id": "725188f4",
   "metadata": {},
   "outputs": [],
   "source": [
    "# Export bar chart\n",
    "\n",
    "bar_middle_loyal.figure.savefig(os.path.join(path, '04 Analysis','Visualizations', 'bar_middle_loyal.png')) "
   ]
  },
  {
   "cell_type": "code",
   "execution_count": 163,
   "id": "fdb50da0",
   "metadata": {},
   "outputs": [],
   "source": [
    "# At what price levels are young parents purhcasing in the \"Babies\" department?\n",
    "\n",
    "cross_price_income = pd.crosstab(df_yp['income_bracket'], df_yp['price_range_loc'], dropna=False)"
   ]
  },
  {
   "cell_type": "code",
   "execution_count": 164,
   "id": "5edee5b6",
   "metadata": {},
   "outputs": [
    {
     "data": {
      "text/html": [
       "<div>\n",
       "<style scoped>\n",
       "    .dataframe tbody tr th:only-of-type {\n",
       "        vertical-align: middle;\n",
       "    }\n",
       "\n",
       "    .dataframe tbody tr th {\n",
       "        vertical-align: top;\n",
       "    }\n",
       "\n",
       "    .dataframe thead th {\n",
       "        text-align: right;\n",
       "    }\n",
       "</style>\n",
       "<table border=\"1\" class=\"dataframe\">\n",
       "  <thead>\n",
       "    <tr style=\"text-align: right;\">\n",
       "      <th>price_range_loc</th>\n",
       "      <th>Low-range product</th>\n",
       "      <th>Mid-range product</th>\n",
       "    </tr>\n",
       "    <tr>\n",
       "      <th>income_bracket</th>\n",
       "      <th></th>\n",
       "      <th></th>\n",
       "    </tr>\n",
       "  </thead>\n",
       "  <tbody>\n",
       "    <tr>\n",
       "      <th>Low income</th>\n",
       "      <td>1131</td>\n",
       "      <td>2249</td>\n",
       "    </tr>\n",
       "    <tr>\n",
       "      <th>Middle income</th>\n",
       "      <td>7614</td>\n",
       "      <td>18960</td>\n",
       "    </tr>\n",
       "    <tr>\n",
       "      <th>Upper income</th>\n",
       "      <td>34</td>\n",
       "      <td>94</td>\n",
       "    </tr>\n",
       "  </tbody>\n",
       "</table>\n",
       "</div>"
      ],
      "text/plain": [
       "price_range_loc  Low-range product  Mid-range product\n",
       "income_bracket                                       \n",
       "Low income                    1131               2249\n",
       "Middle income                 7614              18960\n",
       "Upper income                    34                 94"
      ]
     },
     "execution_count": 164,
     "metadata": {},
     "output_type": "execute_result"
    }
   ],
   "source": [
    "cross_price_income"
   ]
  },
  {
   "cell_type": "code",
   "execution_count": 166,
   "id": "9c574aa9",
   "metadata": {},
   "outputs": [
    {
     "data": {
      "image/png": "[encoded data removed]",
      "text/plain": [
       "<Figure size 432x288 with 1 Axes>"
      ]
     },
     "metadata": {
      "needs_background": "light"
     },
     "output_type": "display_data"
    }
   ],
   "source": [
    "bar_price_income = cross_price_income.plot(kind='bar', stacked=True, ylabel='count', title='Price range of Babies goods by young parent income level')"
   ]
  },
  {
   "cell_type": "code",
   "execution_count": 167,
   "id": "1a8672b8",
   "metadata": {},
   "outputs": [],
   "source": [
    "# Export bar chart\n",
    "\n",
    "bar_price_income.figure.savefig(os.path.join(path, '04 Analysis', 'Visualizations', 'bar_price_income.png'))"
   ]
  },
  {
   "cell_type": "code",
   "execution_count": 168,
   "id": "84a91d78",
   "metadata": {},
   "outputs": [],
   "source": [
    "# Export middle_loyal df\n",
    "\n",
    "df_middle_loyal.to_csv(os.path.join(path, '02 Data', 'Prepared data', 'parents_middle_loyal.csv'))"
   ]
  },
  {
   "cell_type": "code",
   "execution_count": null,
   "id": "89c8c977",
   "metadata": {},
   "outputs": [],
   "source": []
  }
 ],
 "metadata": {
  "kernelspec": {
   "display_name": "Python 3 (ipykernel)",
   "language": "python",
   "name": "python3"
  },
  "language_info": {
   "codemirror_mode": {
    "name": "ipython",
    "version": 3
   },
   "file_extension": ".py",
   "mimetype": "text/x-python",
   "name": "python",
   "nbconvert_exporter": "python",
   "pygments_lexer": "ipython3",
   "version": "3.9.12"
  }
 },
 "nbformat": 4,
 "nbformat_minor": 5
}
